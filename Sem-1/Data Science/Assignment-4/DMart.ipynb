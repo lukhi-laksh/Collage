{
 "cells": [
  {
   "cell_type": "markdown",
   "id": "030c767b-1a47-4b31-a7b2-2e2fc6610d29",
   "metadata": {},
   "source": [
    "# DMart Products"
   ]
  },
  {
   "cell_type": "markdown",
   "id": "eb0d26fb-575a-4dbe-b5d1-97b1dd7b2461",
   "metadata": {},
   "source": [
    "## Q1. Import csv file and perform exploratory data analysis by identifying size of the datasets, column information and missing values."
   ]
  },
  {
   "cell_type": "code",
   "execution_count": 42,
   "id": "95134a17-04ca-460d-bc13-96e184458acd",
   "metadata": {},
   "outputs": [],
   "source": [
    "import pandas as pd\n",
    "import numpy as np\n",
    "import matplotlib.pyplot as plt\n",
    "import seaborn as sns\n",
    "from sklearn.preprocessing import LabelEncoder\n",
    "from sklearn.model_selection import train_test_split\n",
    "from sklearn.naive_bayes import GaussianNB\n",
    "from sklearn.metrics import accuracy_score, confusion_matrix, classification_report"
   ]
  },
  {
   "cell_type": "markdown",
   "id": "f6d28c4d-acb3-44ba-8a39-2fd8446899ec",
   "metadata": {},
   "source": [
    "### A. Read CSV file"
   ]
  },
  {
   "cell_type": "code",
   "execution_count": 29,
   "id": "0f69b661-673f-458e-943c-c972684040b4",
   "metadata": {},
   "outputs": [
    {
     "data": {
      "text/html": [
       "<div>\n",
       "<style scoped>\n",
       "    .dataframe tbody tr th:only-of-type {\n",
       "        vertical-align: middle;\n",
       "    }\n",
       "\n",
       "    .dataframe tbody tr th {\n",
       "        vertical-align: top;\n",
       "    }\n",
       "\n",
       "    .dataframe thead th {\n",
       "        text-align: right;\n",
       "    }\n",
       "</style>\n",
       "<table border=\"1\" class=\"dataframe\">\n",
       "  <thead>\n",
       "    <tr style=\"text-align: right;\">\n",
       "      <th></th>\n",
       "      <th>Name</th>\n",
       "      <th>Brand</th>\n",
       "      <th>Price</th>\n",
       "      <th>DiscountedPrice</th>\n",
       "      <th>Category</th>\n",
       "      <th>SubCategory</th>\n",
       "      <th>Quantity</th>\n",
       "      <th>Description</th>\n",
       "      <th>BreadCrumbs</th>\n",
       "    </tr>\n",
       "  </thead>\n",
       "  <tbody>\n",
       "    <tr>\n",
       "      <th>0</th>\n",
       "      <td>Premia Badam (Almonds)</td>\n",
       "      <td>Premia</td>\n",
       "      <td>451.0</td>\n",
       "      <td>329.0</td>\n",
       "      <td>Grocery</td>\n",
       "      <td>Grocery/Dry Fruits</td>\n",
       "      <td>500 gm</td>\n",
       "      <td>India</td>\n",
       "      <td>Grocery &gt; Grocery/Dry Fruits</td>\n",
       "    </tr>\n",
       "    <tr>\n",
       "      <th>1</th>\n",
       "      <td>Premia Badam (Almonds)</td>\n",
       "      <td>Premia</td>\n",
       "      <td>109.0</td>\n",
       "      <td>85.0</td>\n",
       "      <td>Grocery</td>\n",
       "      <td>Grocery/Dry Fruits</td>\n",
       "      <td>100 gm</td>\n",
       "      <td>India</td>\n",
       "      <td>Grocery &gt; Grocery/Dry Fruits</td>\n",
       "    </tr>\n",
       "    <tr>\n",
       "      <th>2</th>\n",
       "      <td>Premia Badam (Almonds)</td>\n",
       "      <td>Premia</td>\n",
       "      <td>202.0</td>\n",
       "      <td>175.0</td>\n",
       "      <td>Grocery</td>\n",
       "      <td>Grocery/Dry Fruits</td>\n",
       "      <td>200 gm</td>\n",
       "      <td>India</td>\n",
       "      <td>Grocery &gt; Grocery/Dry Fruits</td>\n",
       "    </tr>\n",
       "    <tr>\n",
       "      <th>3</th>\n",
       "      <td>Nutraj California Almonds (Badam)</td>\n",
       "      <td>Nutraj</td>\n",
       "      <td>599.0</td>\n",
       "      <td>349.0</td>\n",
       "      <td>Grocery</td>\n",
       "      <td>Dry Fruits</td>\n",
       "      <td>500 gm</td>\n",
       "      <td>USA</td>\n",
       "      <td>Grocery &gt; Dry Fruits</td>\n",
       "    </tr>\n",
       "    <tr>\n",
       "      <th>4</th>\n",
       "      <td>Nutraj California Almonds (Badam)</td>\n",
       "      <td>Nutraj</td>\n",
       "      <td>1549.0</td>\n",
       "      <td>659.0</td>\n",
       "      <td>Grocery</td>\n",
       "      <td>Dry Fruits</td>\n",
       "      <td>1 kg</td>\n",
       "      <td>USA</td>\n",
       "      <td>Grocery &gt; Dry Fruits</td>\n",
       "    </tr>\n",
       "    <tr>\n",
       "      <th>...</th>\n",
       "      <td>...</td>\n",
       "      <td>...</td>\n",
       "      <td>...</td>\n",
       "      <td>...</td>\n",
       "      <td>...</td>\n",
       "      <td>...</td>\n",
       "      <td>...</td>\n",
       "      <td>...</td>\n",
       "      <td>...</td>\n",
       "    </tr>\n",
       "    <tr>\n",
       "      <th>5184</th>\n",
       "      <td>Navneet Youva A4 Notebook - Assorted</td>\n",
       "      <td>Navneet</td>\n",
       "      <td>55.0</td>\n",
       "      <td>36.0</td>\n",
       "      <td>School Supplies</td>\n",
       "      <td>School Needs</td>\n",
       "      <td>1 Book</td>\n",
       "      <td>OverviewEach book has an index page with label...</td>\n",
       "      <td>School Supplies &gt; School Needs</td>\n",
       "    </tr>\n",
       "    <tr>\n",
       "      <th>5185</th>\n",
       "      <td>Navneet Youva Longbook Journal - Assorted</td>\n",
       "      <td>Navneet</td>\n",
       "      <td>85.0</td>\n",
       "      <td>69.0</td>\n",
       "      <td>School Supplies</td>\n",
       "      <td>School Needs</td>\n",
       "      <td>1 Book</td>\n",
       "      <td>OverviewStrong &amp; sturdy case binding. Easy to ...</td>\n",
       "      <td>School Supplies &gt; School Needs</td>\n",
       "    </tr>\n",
       "    <tr>\n",
       "      <th>5186</th>\n",
       "      <td>Navneet Youva Long Notebook - Assorted</td>\n",
       "      <td>Navneet</td>\n",
       "      <td>55.0</td>\n",
       "      <td>40.0</td>\n",
       "      <td>School Supplies</td>\n",
       "      <td>School Needs</td>\n",
       "      <td>1 Book</td>\n",
       "      <td>OverviewAttractive colour and designs. Easy to...</td>\n",
       "      <td>School Supplies &gt; School Needs</td>\n",
       "    </tr>\n",
       "    <tr>\n",
       "      <th>5187</th>\n",
       "      <td>Navneet Youva Drawing Book - Assorted</td>\n",
       "      <td>Navneet</td>\n",
       "      <td>110.0</td>\n",
       "      <td>72.0</td>\n",
       "      <td>School Supplies</td>\n",
       "      <td>School Needs</td>\n",
       "      <td>1 Book</td>\n",
       "      <td>OverviewDrawing book has attractive cover desi...</td>\n",
       "      <td>School Supplies &gt; School Needs</td>\n",
       "    </tr>\n",
       "    <tr>\n",
       "      <th>5188</th>\n",
       "      <td>Navneet Youva Canvas Board (10x12 Inches)</td>\n",
       "      <td>Navneet</td>\n",
       "      <td>90.0</td>\n",
       "      <td>75.0</td>\n",
       "      <td>School Supplies</td>\n",
       "      <td>School Needs</td>\n",
       "      <td>1 U</td>\n",
       "      <td>OverviewCoated with a double layer of acrylic ...</td>\n",
       "      <td>School Supplies &gt; School Needs</td>\n",
       "    </tr>\n",
       "  </tbody>\n",
       "</table>\n",
       "<p>5189 rows × 9 columns</p>\n",
       "</div>"
      ],
      "text/plain": [
       "                                           Name    Brand   Price  \\\n",
       "0                        Premia Badam (Almonds)   Premia   451.0   \n",
       "1                        Premia Badam (Almonds)   Premia   109.0   \n",
       "2                        Premia Badam (Almonds)   Premia   202.0   \n",
       "3             Nutraj California Almonds (Badam)   Nutraj   599.0   \n",
       "4             Nutraj California Almonds (Badam)   Nutraj  1549.0   \n",
       "...                                         ...      ...     ...   \n",
       "5184       Navneet Youva A4 Notebook - Assorted  Navneet    55.0   \n",
       "5185  Navneet Youva Longbook Journal - Assorted  Navneet    85.0   \n",
       "5186     Navneet Youva Long Notebook - Assorted  Navneet    55.0   \n",
       "5187      Navneet Youva Drawing Book - Assorted  Navneet   110.0   \n",
       "5188  Navneet Youva Canvas Board (10x12 Inches)  Navneet    90.0   \n",
       "\n",
       "      DiscountedPrice         Category         SubCategory Quantity  \\\n",
       "0               329.0          Grocery  Grocery/Dry Fruits   500 gm   \n",
       "1                85.0          Grocery  Grocery/Dry Fruits   100 gm   \n",
       "2               175.0          Grocery  Grocery/Dry Fruits   200 gm   \n",
       "3               349.0          Grocery          Dry Fruits   500 gm   \n",
       "4               659.0          Grocery          Dry Fruits     1 kg   \n",
       "...               ...              ...                 ...      ...   \n",
       "5184             36.0  School Supplies        School Needs   1 Book   \n",
       "5185             69.0  School Supplies        School Needs   1 Book   \n",
       "5186             40.0  School Supplies        School Needs   1 Book   \n",
       "5187             72.0  School Supplies        School Needs   1 Book   \n",
       "5188             75.0  School Supplies        School Needs      1 U   \n",
       "\n",
       "                                            Description  \\\n",
       "0                                                 India   \n",
       "1                                                 India   \n",
       "2                                                 India   \n",
       "3                                                   USA   \n",
       "4                                                   USA   \n",
       "...                                                 ...   \n",
       "5184  OverviewEach book has an index page with label...   \n",
       "5185  OverviewStrong & sturdy case binding. Easy to ...   \n",
       "5186  OverviewAttractive colour and designs. Easy to...   \n",
       "5187  OverviewDrawing book has attractive cover desi...   \n",
       "5188  OverviewCoated with a double layer of acrylic ...   \n",
       "\n",
       "                         BreadCrumbs  \n",
       "0       Grocery > Grocery/Dry Fruits  \n",
       "1       Grocery > Grocery/Dry Fruits  \n",
       "2       Grocery > Grocery/Dry Fruits  \n",
       "3               Grocery > Dry Fruits  \n",
       "4               Grocery > Dry Fruits  \n",
       "...                              ...  \n",
       "5184  School Supplies > School Needs  \n",
       "5185  School Supplies > School Needs  \n",
       "5186  School Supplies > School Needs  \n",
       "5187  School Supplies > School Needs  \n",
       "5188  School Supplies > School Needs  \n",
       "\n",
       "[5189 rows x 9 columns]"
      ]
     },
     "execution_count": 29,
     "metadata": {},
     "output_type": "execute_result"
    }
   ],
   "source": [
    "df = pd.read_csv('DMart.csv')\n",
    "df"
   ]
  },
  {
   "cell_type": "markdown",
   "id": "c74f2c9a-76e3-4977-8da8-7ad191d4eb0e",
   "metadata": {},
   "source": [
    "### B. Dataset size"
   ]
  },
  {
   "cell_type": "code",
   "execution_count": 30,
   "id": "64e9b49d-fcea-49bf-b5b3-83bc5894c44a",
   "metadata": {},
   "outputs": [
    {
     "data": {
      "text/plain": [
       "46701"
      ]
     },
     "execution_count": 30,
     "metadata": {},
     "output_type": "execute_result"
    }
   ],
   "source": [
    "df.size"
   ]
  },
  {
   "cell_type": "markdown",
   "id": "ff82a552-ac4d-4e12-b58f-c4c023ab9c15",
   "metadata": {},
   "source": [
    "### C. Column information"
   ]
  },
  {
   "cell_type": "code",
   "execution_count": 31,
   "id": "667e18eb-f5d3-499c-821f-e96b89f8bab7",
   "metadata": {},
   "outputs": [
    {
     "name": "stdout",
     "output_type": "stream",
     "text": [
      "<class 'pandas.core.frame.DataFrame'>\n",
      "RangeIndex: 5189 entries, 0 to 5188\n",
      "Data columns (total 9 columns):\n",
      " #   Column           Non-Null Count  Dtype  \n",
      "---  ------           --------------  -----  \n",
      " 0   Name             5188 non-null   object \n",
      " 1   Brand            4789 non-null   object \n",
      " 2   Price            5188 non-null   float64\n",
      " 3   DiscountedPrice  5188 non-null   float64\n",
      " 4   Category         5186 non-null   object \n",
      " 5   SubCategory      5186 non-null   object \n",
      " 6   Quantity         5188 non-null   object \n",
      " 7   Description      5187 non-null   object \n",
      " 8   BreadCrumbs      5186 non-null   object \n",
      "dtypes: float64(2), object(7)\n",
      "memory usage: 365.0+ KB\n"
     ]
    }
   ],
   "source": [
    "df.info()"
   ]
  },
  {
   "cell_type": "markdown",
   "id": "1a71e421-8fc7-4a9f-8455-4b80d300a10a",
   "metadata": {},
   "source": [
    "### D. Check for missing values"
   ]
  },
  {
   "cell_type": "code",
   "execution_count": 32,
   "id": "ae984c79-cd66-44f0-8508-14158c4650f2",
   "metadata": {},
   "outputs": [
    {
     "data": {
      "text/plain": [
       "Name                 1\n",
       "Brand              400\n",
       "Price                1\n",
       "DiscountedPrice      1\n",
       "Category             3\n",
       "SubCategory          3\n",
       "Quantity             1\n",
       "Description          2\n",
       "BreadCrumbs          3\n",
       "dtype: int64"
      ]
     },
     "execution_count": 32,
     "metadata": {},
     "output_type": "execute_result"
    }
   ],
   "source": [
    "df.isnull().sum()"
   ]
  },
  {
   "cell_type": "markdown",
   "id": "14efa673-5b8e-4dc3-9395-ba91cace76cd",
   "metadata": {},
   "source": [
    "## Q2. Identify Top 10 Most Product Categories having highest products and plot graph for the same."
   ]
  },
  {
   "cell_type": "code",
   "execution_count": 33,
   "id": "ab3e800a-e608-4857-b946-837867f22cca",
   "metadata": {},
   "outputs": [
    {
     "name": "stdout",
     "output_type": "stream",
     "text": [
      "Top 10 Categories with Highest Number of Products:\n",
      "\n",
      "Category\n",
      "Personal Care             1234\n",
      "Packaged Food             1125\n",
      "Home & Kitchen             880\n",
      "Grocery                    840\n",
      "Dairy & Beverages          429\n",
      "Specials                   187\n",
      "Clothing & Accessories      97\n",
      "Fruits & Vegetables         78\n",
      "School Supplies             69\n",
      "Appliances                  53\n",
      "Name: count, dtype: int64\n"
     ]
    },
    {
     "data": {
      "image/png": "[encoded data removed]",
      "text/plain": [
       "<Figure size 1000x600 with 1 Axes>"
      ]
     },
     "metadata": {},
     "output_type": "display_data"
    }
   ],
   "source": [
    "category_counts = df['Category'].value_counts().head(10)\n",
    "\n",
    "print(\"Top 10 Categories with Highest Number of Products:\\n\")\n",
    "print(category_counts)\n",
    "\n",
    "plt.figure(figsize=(10,6))\n",
    "category_counts.plot(kind='bar', color='skyblue', edgecolor='black')\n",
    "\n",
    "plt.title(\"Top 10 Product Categories with Highest Number of Products\")\n",
    "plt.xlabel(\"Category\")\n",
    "plt.ylabel(\"Number of Products\")\n",
    "plt.xticks(rotation=45)\n",
    "plt.show()"
   ]
  },
  {
   "cell_type": "markdown",
   "id": "eeaefc40-d6c1-45e4-a361-b438b93f06f2",
   "metadata": {},
   "source": [
    "## Q3. Perform following operations."
   ]
  },
  {
   "cell_type": "markdown",
   "id": "a735a968-6c56-4c58-8712-39c3285b0cae",
   "metadata": {},
   "source": [
    "### A. Fill the missing value of Brand with value ‘Others’."
   ]
  },
  {
   "cell_type": "code",
   "execution_count": 36,
   "id": "8cea1801-9013-4123-9d33-4224cac87fd9",
   "metadata": {},
   "outputs": [],
   "source": [
    "df['Brand'] = df['Brand'].fillna('Others')"
   ]
  },
  {
   "cell_type": "markdown",
   "id": "7948df8b-11ed-4d5d-bcdc-605910873212",
   "metadata": {},
   "source": [
    "### B. Find out 10 brands which are having highest products."
   ]
  },
  {
   "cell_type": "code",
   "execution_count": 37,
   "id": "3395268b-5836-4666-ac09-2fe1fcc301c0",
   "metadata": {},
   "outputs": [
    {
     "data": {
      "image/png": "[encoded data removed]",
      "text/plain": [
       "<Figure size 1000x600 with 1 Axes>"
      ]
     },
     "metadata": {},
     "output_type": "display_data"
    }
   ],
   "source": [
    "top_10_brands = df['Brand'].value_counts().head(10)\n",
    "\n",
    "plt.figure(figsize=(10,6))\n",
    "top_10_brands.plot(kind='bar', color='skyblue', edgecolor='black')\n",
    "plt.title(\"Top 10 Brands by Product Count\")\n",
    "plt.xlabel(\"Brand\")\n",
    "plt.ylabel(\"Number of Products\")\n",
    "plt.xticks(rotation=45)\n",
    "plt.show()\n"
   ]
  },
  {
   "cell_type": "markdown",
   "id": "ee97eff9-4531-489f-a734-864719496eff",
   "metadata": {},
   "source": [
    "### C. Identify and Remove columns which are not useful for data analysis."
   ]
  },
  {
   "cell_type": "code",
   "execution_count": 38,
   "id": "9d01051e-df3e-4c54-b14a-283846986d80",
   "metadata": {},
   "outputs": [
    {
     "name": "stdout",
     "output_type": "stream",
     "text": [
      "Remaining Columns:\n",
      " Index(['Name', 'Brand', 'Price', 'DiscountedPrice', 'Category', 'SubCategory'], dtype='object')\n"
     ]
    }
   ],
   "source": [
    "cols_to_drop = ['Description', 'BreadCrumbs', 'Quantity', 'ProductID', 'URL']\n",
    "df.drop(columns=[c for c in cols_to_drop if c in df.columns], inplace=True)\n",
    "\n",
    "print(\"Remaining Columns:\\n\", df.columns)\n"
   ]
  },
  {
   "cell_type": "markdown",
   "id": "e788d157-fa70-4c31-a369-b3a5c97f3808",
   "metadata": {},
   "source": [
    "## Q4. Implement Naive Bayes classifier to predict product category. Perform lable encoding if required."
   ]
  },
  {
   "cell_type": "code",
   "execution_count": 43,
   "id": "d27b43a5-c9e6-4ebf-8172-3da6f8ce1a84",
   "metadata": {},
   "outputs": [
    {
     "name": "stdout",
     "output_type": "stream",
     "text": [
      "Accuracy: 0.3815028901734104\n",
      "\n",
      "Classification Report:\n",
      "               precision    recall  f1-score   support\n",
      "\n",
      "           0       0.42      0.80      0.55        10\n",
      "           1       0.50      1.00      0.67         1\n",
      "           2       1.00      1.00      1.00         5\n",
      "           3       0.00      0.00      0.00        11\n",
      "           5       0.00      0.00      0.00        15\n",
      "           6       0.00      0.00      0.00         1\n",
      "           7       0.18      0.40      0.25         5\n",
      "           8       0.34      0.85      0.48        75\n",
      "           9       1.00      0.94      0.97        17\n",
      "          11       0.17      0.01      0.02       197\n",
      "          12       0.38      0.13      0.20       150\n",
      "          13       0.00      0.00      0.00         1\n",
      "          16       0.31      0.71      0.43       226\n",
      "          17       0.50      0.33      0.40       256\n",
      "          18       0.00      0.00      0.00         1\n",
      "          19       1.00      1.00      1.00         4\n",
      "          20       1.00      1.00      1.00         6\n",
      "          21       1.00      0.92      0.96        13\n",
      "          23       0.69      0.21      0.33        42\n",
      "          25       1.00      1.00      1.00         1\n",
      "          29       1.00      1.00      1.00         1\n",
      "\n",
      "    accuracy                           0.38      1038\n",
      "   macro avg       0.50      0.54      0.49      1038\n",
      "weighted avg       0.38      0.38      0.32      1038\n",
      "\n",
      "\n",
      "Confusion Matrix:\n",
      " [[  8   0   0   0   0   0   0   0   0   0   2   0   0   0   0   0   0   0\n",
      "    0   0   0]\n",
      " [  0   1   0   0   0   0   0   0   0   0   0   0   0   0   0   0   0   0\n",
      "    0   0   0]\n",
      " [  0   0   5   0   0   0   0   0   0   0   0   0   0   0   0   0   0   0\n",
      "    0   0   0]\n",
      " [  0   0   0   0   0   0   0   6   0   0   1   0   1   3   0   0   0   0\n",
      "    0   0   0]\n",
      " [  0   0   0   0   0   0   0   0   0   0   0   0   3  12   0   0   0   0\n",
      "    0   0   0]\n",
      " [  0   0   0   0   0   0   0   1   0   0   0   0   0   0   0   0   0   0\n",
      "    0   0   0]\n",
      " [  0   0   0   0   0   0   2   2   0   0   1   0   0   0   0   0   0   0\n",
      "    0   0   0]\n",
      " [  0   0   0   0   0   0   0  64   0   0   6   0   5   0   0   0   0   0\n",
      "    0   0   0]\n",
      " [  0   0   0   0   0   0   1   0  16   0   0   0   0   0   0   0   0   0\n",
      "    0   0   0]\n",
      " [  4   0   0   0   0   0   5  13   0   2  11   0 133  27   0   0   0   0\n",
      "    2   0   0]\n",
      " [  3   0   0   0   1   0   3  61   0   0  20   0  50  12   0   0   0   0\n",
      "    0   0   0]\n",
      " [  0   0   0   0   0   0   0   0   0   0   0   0   0   1   0   0   0   0\n",
      "    0   0   0]\n",
      " [  0   0   0   0   0   0   0  41   0   1   1   0 160  23   0   0   0   0\n",
      "    0   0   0]\n",
      " [  0   1   0   0   0   0   0   1   0   9   9   0 150  85   0   0   0   0\n",
      "    1   0   0]\n",
      " [  1   0   0   0   0   0   0   0   0   0   0   0   0   0   0   0   0   0\n",
      "    0   0   0]\n",
      " [  0   0   0   0   0   0   0   0   0   0   0   0   0   0   0   4   0   0\n",
      "    0   0   0]\n",
      " [  0   0   0   0   0   0   0   0   0   0   0   0   0   0   0   0   6   0\n",
      "    0   0   0]\n",
      " [  0   0   0   0   0   0   0   0   0   0   0   0   0   0   0   0   0  12\n",
      "    1   0   0]\n",
      " [  3   0   0   0   0   0   0   0   0   0   2   0  22   6   0   0   0   0\n",
      "    9   0   0]\n",
      " [  0   0   0   0   0   0   0   0   0   0   0   0   0   0   0   0   0   0\n",
      "    0   1   0]\n",
      " [  0   0   0   0   0   0   0   0   0   0   0   0   0   0   0   0   0   0\n",
      "    0   0   1]]\n"
     ]
    },
    {
     "name": "stderr",
     "output_type": "stream",
     "text": [
      "C:\\Users\\luxlu\\OneDrive\\Desktop\\Git Hub\\venv\\Lib\\site-packages\\sklearn\\metrics\\_classification.py:1731: UndefinedMetricWarning: Precision is ill-defined and being set to 0.0 in labels with no predicted samples. Use `zero_division` parameter to control this behavior.\n",
      "  _warn_prf(average, modifier, f\"{metric.capitalize()} is\", result.shape[0])\n",
      "C:\\Users\\luxlu\\OneDrive\\Desktop\\Git Hub\\venv\\Lib\\site-packages\\sklearn\\metrics\\_classification.py:1731: UndefinedMetricWarning: Precision is ill-defined and being set to 0.0 in labels with no predicted samples. Use `zero_division` parameter to control this behavior.\n",
      "  _warn_prf(average, modifier, f\"{metric.capitalize()} is\", result.shape[0])\n",
      "C:\\Users\\luxlu\\OneDrive\\Desktop\\Git Hub\\venv\\Lib\\site-packages\\sklearn\\metrics\\_classification.py:1731: UndefinedMetricWarning: Precision is ill-defined and being set to 0.0 in labels with no predicted samples. Use `zero_division` parameter to control this behavior.\n",
      "  _warn_prf(average, modifier, f\"{metric.capitalize()} is\", result.shape[0])\n"
     ]
    }
   ],
   "source": [
    "cols_to_drop = ['Description', 'BreadCrumbs', 'Quantity', 'ProductID', 'URL']\n",
    "df.drop(columns=[c for c in cols_to_drop if c in df.columns], inplace=True)\n",
    "\n",
    "# Fill missing values\n",
    "df['Brand'] = df['Brand'].fillna('Others')\n",
    "df['Price'] = df['Price'].fillna(df['Price'].mean())\n",
    "df['DiscountedPrice'] = df['DiscountedPrice'].fillna(df['DiscountedPrice'].mean())\n",
    "\n",
    "# Label Encoding\n",
    "df['Brand'] = LabelEncoder().fit_transform(df['Brand'])\n",
    "df['SubCategory'] = LabelEncoder().fit_transform(df['SubCategory'])\n",
    "df['Category'] = LabelEncoder().fit_transform(df['Category'])\n",
    "\n",
    "X = df[['Brand', 'SubCategory', 'Price', 'DiscountedPrice']]\n",
    "y = df['Category']\n",
    "\n",
    "X_train, X_test, y_train, y_test = train_test_split(X, y, test_size=0.2, random_state=42)\n",
    "\n",
    "nb = GaussianNB()\n",
    "nb.fit(X_train, y_train)\n",
    "\n",
    "y_pred = nb.predict(X_test)\n",
    "\n",
    "print(\"Accuracy:\", accuracy_score(y_test, y_pred))\n",
    "print(\"\\nClassification Report:\\n\", classification_report(y_test, y_pred))\n",
    "print(\"\\nConfusion Matrix:\\n\", confusion_matrix(y_test, y_pred))\n"
   ]
  },
  {
   "cell_type": "code",
   "execution_count": null,
   "id": "e8a86bf8-0dc4-4af5-83f3-3c64eb56fadc",
   "metadata": {},
   "outputs": [],
   "source": []
  }
 ],
 "metadata": {
  "kernelspec": {
   "display_name": "Python 3 (ipykernel)",
   "language": "python",
   "name": "python3"
  },
  "language_info": {
   "codemirror_mode": {
    "name": "ipython",
    "version": 3
   },
   "file_extension": ".py",
   "mimetype": "text/x-python",
   "name": "python",
   "nbconvert_exporter": "python",
   "pygments_lexer": "ipython3",
   "version": "3.13.3"
  }
 },
 "nbformat": 4,
 "nbformat_minor": 5
}
