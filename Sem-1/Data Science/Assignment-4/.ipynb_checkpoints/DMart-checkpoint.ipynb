{
 "cells": [
  {
   "cell_type": "markdown",
   "id": "030c767b-1a47-4b31-a7b2-2e2fc6610d29",
   "metadata": {},
   "source": [
    "# DMart Products"
   ]
  },
  {
   "cell_type": "markdown",
   "id": "eb0d26fb-575a-4dbe-b5d1-97b1dd7b2461",
   "metadata": {},
   "source": [
    "## Q1. Import csv file and perform exploratory data analysis by identifying size of the datasets, column information and missing values."
   ]
  },
  {
   "cell_type": "code",
   "execution_count": 1,
   "id": "95134a17-04ca-460d-bc13-96e184458acd",
   "metadata": {},
   "outputs": [],
   "source": [
    "import pandas as pd\n",
    "import numpy as np\n",
    "import matplotlib.pyplot as plt\n",
    "import seaborn as sns"
   ]
  },
  {
   "cell_type": "markdown",
   "id": "f6d28c4d-acb3-44ba-8a39-2fd8446899ec",
   "metadata": {},
   "source": [
    "### A. Read CSV file"
   ]
  },
  {
   "cell_type": "code",
   "execution_count": 2,
   "id": "0f69b661-673f-458e-943c-c972684040b4",
   "metadata": {},
   "outputs": [
    {
     "data": {
      "text/html": [
       "<div>\n",
       "<style scoped>\n",
       "    .dataframe tbody tr th:only-of-type {\n",
       "        vertical-align: middle;\n",
       "    }\n",
       "\n",
       "    .dataframe tbody tr th {\n",
       "        vertical-align: top;\n",
       "    }\n",
       "\n",
       "    .dataframe thead th {\n",
       "        text-align: right;\n",
       "    }\n",
       "</style>\n",
       "<table border=\"1\" class=\"dataframe\">\n",
       "  <thead>\n",
       "    <tr style=\"text-align: right;\">\n",
       "      <th></th>\n",
       "      <th>Name</th>\n",
       "      <th>Brand</th>\n",
       "      <th>Price</th>\n",
       "      <th>DiscountedPrice</th>\n",
       "      <th>Category</th>\n",
       "      <th>SubCategory</th>\n",
       "      <th>Quantity</th>\n",
       "      <th>Description</th>\n",
       "      <th>BreadCrumbs</th>\n",
       "    </tr>\n",
       "  </thead>\n",
       "  <tbody>\n",
       "    <tr>\n",
       "      <th>0</th>\n",
       "      <td>Premia Badam (Almonds)</td>\n",
       "      <td>Premia</td>\n",
       "      <td>451.0</td>\n",
       "      <td>329.0</td>\n",
       "      <td>Grocery</td>\n",
       "      <td>Grocery/Dry Fruits</td>\n",
       "      <td>500 gm</td>\n",
       "      <td>India</td>\n",
       "      <td>Grocery &gt; Grocery/Dry Fruits</td>\n",
       "    </tr>\n",
       "    <tr>\n",
       "      <th>1</th>\n",
       "      <td>Premia Badam (Almonds)</td>\n",
       "      <td>Premia</td>\n",
       "      <td>109.0</td>\n",
       "      <td>85.0</td>\n",
       "      <td>Grocery</td>\n",
       "      <td>Grocery/Dry Fruits</td>\n",
       "      <td>100 gm</td>\n",
       "      <td>India</td>\n",
       "      <td>Grocery &gt; Grocery/Dry Fruits</td>\n",
       "    </tr>\n",
       "    <tr>\n",
       "      <th>2</th>\n",
       "      <td>Premia Badam (Almonds)</td>\n",
       "      <td>Premia</td>\n",
       "      <td>202.0</td>\n",
       "      <td>175.0</td>\n",
       "      <td>Grocery</td>\n",
       "      <td>Grocery/Dry Fruits</td>\n",
       "      <td>200 gm</td>\n",
       "      <td>India</td>\n",
       "      <td>Grocery &gt; Grocery/Dry Fruits</td>\n",
       "    </tr>\n",
       "    <tr>\n",
       "      <th>3</th>\n",
       "      <td>Nutraj California Almonds (Badam)</td>\n",
       "      <td>Nutraj</td>\n",
       "      <td>599.0</td>\n",
       "      <td>349.0</td>\n",
       "      <td>Grocery</td>\n",
       "      <td>Dry Fruits</td>\n",
       "      <td>500 gm</td>\n",
       "      <td>USA</td>\n",
       "      <td>Grocery &gt; Dry Fruits</td>\n",
       "    </tr>\n",
       "    <tr>\n",
       "      <th>4</th>\n",
       "      <td>Nutraj California Almonds (Badam)</td>\n",
       "      <td>Nutraj</td>\n",
       "      <td>1549.0</td>\n",
       "      <td>659.0</td>\n",
       "      <td>Grocery</td>\n",
       "      <td>Dry Fruits</td>\n",
       "      <td>1 kg</td>\n",
       "      <td>USA</td>\n",
       "      <td>Grocery &gt; Dry Fruits</td>\n",
       "    </tr>\n",
       "    <tr>\n",
       "      <th>...</th>\n",
       "      <td>...</td>\n",
       "      <td>...</td>\n",
       "      <td>...</td>\n",
       "      <td>...</td>\n",
       "      <td>...</td>\n",
       "      <td>...</td>\n",
       "      <td>...</td>\n",
       "      <td>...</td>\n",
       "      <td>...</td>\n",
       "    </tr>\n",
       "    <tr>\n",
       "      <th>5184</th>\n",
       "      <td>Navneet Youva A4 Notebook - Assorted</td>\n",
       "      <td>Navneet</td>\n",
       "      <td>55.0</td>\n",
       "      <td>36.0</td>\n",
       "      <td>School Supplies</td>\n",
       "      <td>School Needs</td>\n",
       "      <td>1 Book</td>\n",
       "      <td>OverviewEach book has an index page with label...</td>\n",
       "      <td>School Supplies &gt; School Needs</td>\n",
       "    </tr>\n",
       "    <tr>\n",
       "      <th>5185</th>\n",
       "      <td>Navneet Youva Longbook Journal - Assorted</td>\n",
       "      <td>Navneet</td>\n",
       "      <td>85.0</td>\n",
       "      <td>69.0</td>\n",
       "      <td>School Supplies</td>\n",
       "      <td>School Needs</td>\n",
       "      <td>1 Book</td>\n",
       "      <td>OverviewStrong &amp; sturdy case binding. Easy to ...</td>\n",
       "      <td>School Supplies &gt; School Needs</td>\n",
       "    </tr>\n",
       "    <tr>\n",
       "      <th>5186</th>\n",
       "      <td>Navneet Youva Long Notebook - Assorted</td>\n",
       "      <td>Navneet</td>\n",
       "      <td>55.0</td>\n",
       "      <td>40.0</td>\n",
       "      <td>School Supplies</td>\n",
       "      <td>School Needs</td>\n",
       "      <td>1 Book</td>\n",
       "      <td>OverviewAttractive colour and designs. Easy to...</td>\n",
       "      <td>School Supplies &gt; School Needs</td>\n",
       "    </tr>\n",
       "    <tr>\n",
       "      <th>5187</th>\n",
       "      <td>Navneet Youva Drawing Book - Assorted</td>\n",
       "      <td>Navneet</td>\n",
       "      <td>110.0</td>\n",
       "      <td>72.0</td>\n",
       "      <td>School Supplies</td>\n",
       "      <td>School Needs</td>\n",
       "      <td>1 Book</td>\n",
       "      <td>OverviewDrawing book has attractive cover desi...</td>\n",
       "      <td>School Supplies &gt; School Needs</td>\n",
       "    </tr>\n",
       "    <tr>\n",
       "      <th>5188</th>\n",
       "      <td>Navneet Youva Canvas Board (10x12 Inches)</td>\n",
       "      <td>Navneet</td>\n",
       "      <td>90.0</td>\n",
       "      <td>75.0</td>\n",
       "      <td>School Supplies</td>\n",
       "      <td>School Needs</td>\n",
       "      <td>1 U</td>\n",
       "      <td>OverviewCoated with a double layer of acrylic ...</td>\n",
       "      <td>School Supplies &gt; School Needs</td>\n",
       "    </tr>\n",
       "  </tbody>\n",
       "</table>\n",
       "<p>5189 rows × 9 columns</p>\n",
       "</div>"
      ],
      "text/plain": [
       "                                           Name    Brand   Price  \\\n",
       "0                        Premia Badam (Almonds)   Premia   451.0   \n",
       "1                        Premia Badam (Almonds)   Premia   109.0   \n",
       "2                        Premia Badam (Almonds)   Premia   202.0   \n",
       "3             Nutraj California Almonds (Badam)   Nutraj   599.0   \n",
       "4             Nutraj California Almonds (Badam)   Nutraj  1549.0   \n",
       "...                                         ...      ...     ...   \n",
       "5184       Navneet Youva A4 Notebook - Assorted  Navneet    55.0   \n",
       "5185  Navneet Youva Longbook Journal - Assorted  Navneet    85.0   \n",
       "5186     Navneet Youva Long Notebook - Assorted  Navneet    55.0   \n",
       "5187      Navneet Youva Drawing Book - Assorted  Navneet   110.0   \n",
       "5188  Navneet Youva Canvas Board (10x12 Inches)  Navneet    90.0   \n",
       "\n",
       "      DiscountedPrice         Category         SubCategory Quantity  \\\n",
       "0               329.0          Grocery  Grocery/Dry Fruits   500 gm   \n",
       "1                85.0          Grocery  Grocery/Dry Fruits   100 gm   \n",
       "2               175.0          Grocery  Grocery/Dry Fruits   200 gm   \n",
       "3               349.0          Grocery          Dry Fruits   500 gm   \n",
       "4               659.0          Grocery          Dry Fruits     1 kg   \n",
       "...               ...              ...                 ...      ...   \n",
       "5184             36.0  School Supplies        School Needs   1 Book   \n",
       "5185             69.0  School Supplies        School Needs   1 Book   \n",
       "5186             40.0  School Supplies        School Needs   1 Book   \n",
       "5187             72.0  School Supplies        School Needs   1 Book   \n",
       "5188             75.0  School Supplies        School Needs      1 U   \n",
       "\n",
       "                                            Description  \\\n",
       "0                                                 India   \n",
       "1                                                 India   \n",
       "2                                                 India   \n",
       "3                                                   USA   \n",
       "4                                                   USA   \n",
       "...                                                 ...   \n",
       "5184  OverviewEach book has an index page with label...   \n",
       "5185  OverviewStrong & sturdy case binding. Easy to ...   \n",
       "5186  OverviewAttractive colour and designs. Easy to...   \n",
       "5187  OverviewDrawing book has attractive cover desi...   \n",
       "5188  OverviewCoated with a double layer of acrylic ...   \n",
       "\n",
       "                         BreadCrumbs  \n",
       "0       Grocery > Grocery/Dry Fruits  \n",
       "1       Grocery > Grocery/Dry Fruits  \n",
       "2       Grocery > Grocery/Dry Fruits  \n",
       "3               Grocery > Dry Fruits  \n",
       "4               Grocery > Dry Fruits  \n",
       "...                              ...  \n",
       "5184  School Supplies > School Needs  \n",
       "5185  School Supplies > School Needs  \n",
       "5186  School Supplies > School Needs  \n",
       "5187  School Supplies > School Needs  \n",
       "5188  School Supplies > School Needs  \n",
       "\n",
       "[5189 rows x 9 columns]"
      ]
     },
     "execution_count": 2,
     "metadata": {},
     "output_type": "execute_result"
    }
   ],
   "source": [
    "df = pd.read_csv('DMart.csv')\n",
    "df"
   ]
  },
  {
   "cell_type": "markdown",
   "id": "c74f2c9a-76e3-4977-8da8-7ad191d4eb0e",
   "metadata": {},
   "source": [
    "### B. Dataset size"
   ]
  },
  {
   "cell_type": "code",
   "execution_count": null,
   "id": "64e9b49d-fcea-49bf-b5b3-83bc5894c44a",
   "metadata": {},
   "outputs": [],
   "source": [
    "df.size"
   ]
  },
  {
   "cell_type": "markdown",
   "id": "ff82a552-ac4d-4e12-b58f-c4c023ab9c15",
   "metadata": {},
   "source": [
    "### C. Column information"
   ]
  },
  {
   "cell_type": "code",
   "execution_count": null,
   "id": "667e18eb-f5d3-499c-821f-e96b89f8bab7",
   "metadata": {},
   "outputs": [],
   "source": [
    "df.info()"
   ]
  },
  {
   "cell_type": "markdown",
   "id": "1a71e421-8fc7-4a9f-8455-4b80d300a10a",
   "metadata": {},
   "source": [
    "### D. Check for missing values"
   ]
  },
  {
   "cell_type": "code",
   "execution_count": null,
   "id": "ae984c79-cd66-44f0-8508-14158c4650f2",
   "metadata": {},
   "outputs": [],
   "source": [
    "df.isnull().sum()"
   ]
  },
  {
   "cell_type": "markdown",
   "id": "14efa673-5b8e-4dc3-9395-ba91cace76cd",
   "metadata": {},
   "source": [
    "## Q2. Identify Top 10 Most Product Categories having highest products and plot graph for the same."
   ]
  },
  {
   "cell_type": "code",
   "execution_count": null,
   "id": "ab3e800a-e608-4857-b946-837867f22cca",
   "metadata": {},
   "outputs": [],
   "source": [
    "category_counts = df['Category'].value_counts().head(10)\n",
    "\n",
    "print(\"Top 10 Categories with Highest Number of Products:\\n\")\n",
    "print(category_counts)\n",
    "\n",
    "plt.figure(figsize=(10,6))\n",
    "category_counts.plot(kind='bar', color='skyblue', edgecolor='black')\n",
    "\n",
    "plt.title(\"Top 10 Product Categories with Highest Number of Products\")\n",
    "plt.xlabel(\"Category\")\n",
    "plt.ylabel(\"Number of Products\")\n",
    "plt.xticks(rotation=45)\n",
    "plt.show()"
   ]
  },
  {
   "cell_type": "code",
   "execution_count": null,
   "id": "d32f3710-ef8f-4b0f-a179-5e02112f4cad",
   "metadata": {},
   "outputs": [],
   "source": [
    "## Q3. Perform following operations."
   ]
  }
 ],
 "metadata": {
  "kernelspec": {
   "display_name": "Python 3 (ipykernel)",
   "language": "python",
   "name": "python3"
  },
  "language_info": {
   "codemirror_mode": {
    "name": "ipython",
    "version": 3
   },
   "file_extension": ".py",
   "mimetype": "text/x-python",
   "name": "python",
   "nbconvert_exporter": "python",
   "pygments_lexer": "ipython3",
   "version": "3.13.3"
  }
 },
 "nbformat": 4,
 "nbformat_minor": 5
}
