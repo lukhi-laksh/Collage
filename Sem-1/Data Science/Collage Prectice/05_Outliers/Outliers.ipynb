{
 "cells": [
  {
   "cell_type": "markdown",
   "id": "f5615a8a-591e-4365-b476-5e940ed07c62",
   "metadata": {},
   "source": [
    "## import Librarys"
   ]
  },
  {
   "cell_type": "code",
   "execution_count": 1,
   "id": "9af77df3-012e-4195-a680-b73c1348c73e",
   "metadata": {},
   "outputs": [],
   "source": [
    "import numpy as np\n",
    "import pandas as pd\n",
    "import matplotlib.pyplot as plt\n",
    "import seaborn as sns"
   ]
  },
  {
   "cell_type": "markdown",
   "id": "c6d4a424-bdaf-432a-8956-b249a3bf44f8",
   "metadata": {},
   "source": [
    "## Create synthetic dataframe"
   ]
  },
  {
   "cell_type": "code",
   "execution_count": 130,
   "id": "49a7df46-ecbd-4a66-86c8-cd64c5d35161",
   "metadata": {},
   "outputs": [
    {
     "data": {
      "text/html": [
       "<div>\n",
       "<style scoped>\n",
       "    .dataframe tbody tr th:only-of-type {\n",
       "        vertical-align: middle;\n",
       "    }\n",
       "\n",
       "    .dataframe tbody tr th {\n",
       "        vertical-align: top;\n",
       "    }\n",
       "\n",
       "    .dataframe thead th {\n",
       "        text-align: right;\n",
       "    }\n",
       "</style>\n",
       "<table border=\"1\" class=\"dataframe\">\n",
       "  <thead>\n",
       "    <tr style=\"text-align: right;\">\n",
       "      <th></th>\n",
       "      <th>Employee_ID</th>\n",
       "      <th>Age</th>\n",
       "      <th>Salary</th>\n",
       "      <th>Experience</th>\n",
       "      <th>Department</th>\n",
       "    </tr>\n",
       "  </thead>\n",
       "  <tbody>\n",
       "    <tr>\n",
       "      <th>0</th>\n",
       "      <td>1</td>\n",
       "      <td>22</td>\n",
       "      <td>30000</td>\n",
       "      <td>1</td>\n",
       "      <td>HR</td>\n",
       "    </tr>\n",
       "    <tr>\n",
       "      <th>1</th>\n",
       "      <td>2</td>\n",
       "      <td>25</td>\n",
       "      <td>35000</td>\n",
       "      <td>3</td>\n",
       "      <td>IT</td>\n",
       "    </tr>\n",
       "    <tr>\n",
       "      <th>2</th>\n",
       "      <td>3</td>\n",
       "      <td>28</td>\n",
       "      <td>32000</td>\n",
       "      <td>2</td>\n",
       "      <td>Finance</td>\n",
       "    </tr>\n",
       "    <tr>\n",
       "      <th>3</th>\n",
       "      <td>4</td>\n",
       "      <td>23</td>\n",
       "      <td>40000</td>\n",
       "      <td>4</td>\n",
       "      <td>IT</td>\n",
       "    </tr>\n",
       "    <tr>\n",
       "      <th>4</th>\n",
       "      <td>5</td>\n",
       "      <td>24</td>\n",
       "      <td>38000</td>\n",
       "      <td>3</td>\n",
       "      <td>HR</td>\n",
       "    </tr>\n",
       "    <tr>\n",
       "      <th>5</th>\n",
       "      <td>6</td>\n",
       "      <td>27</td>\n",
       "      <td>42000</td>\n",
       "      <td>5</td>\n",
       "      <td>Finance</td>\n",
       "    </tr>\n",
       "    <tr>\n",
       "      <th>6</th>\n",
       "      <td>7</td>\n",
       "      <td>30</td>\n",
       "      <td>50000</td>\n",
       "      <td>3</td>\n",
       "      <td>IT</td>\n",
       "    </tr>\n",
       "    <tr>\n",
       "      <th>7</th>\n",
       "      <td>8</td>\n",
       "      <td>26</td>\n",
       "      <td>36000</td>\n",
       "      <td>3</td>\n",
       "      <td>HR</td>\n",
       "    </tr>\n",
       "    <tr>\n",
       "      <th>8</th>\n",
       "      <td>9</td>\n",
       "      <td>30</td>\n",
       "      <td>39000</td>\n",
       "      <td>4</td>\n",
       "      <td>Finance</td>\n",
       "    </tr>\n",
       "    <tr>\n",
       "      <th>9</th>\n",
       "      <td>10</td>\n",
       "      <td>25</td>\n",
       "      <td>41000</td>\n",
       "      <td>5</td>\n",
       "      <td>IT</td>\n",
       "    </tr>\n",
       "    <tr>\n",
       "      <th>10</th>\n",
       "      <td>11</td>\n",
       "      <td>29</td>\n",
       "      <td>37000</td>\n",
       "      <td>3</td>\n",
       "      <td>HR</td>\n",
       "    </tr>\n",
       "    <tr>\n",
       "      <th>11</th>\n",
       "      <td>12</td>\n",
       "      <td>40</td>\n",
       "      <td>38500</td>\n",
       "      <td>6</td>\n",
       "      <td>Finance</td>\n",
       "    </tr>\n",
       "    <tr>\n",
       "      <th>12</th>\n",
       "      <td>13</td>\n",
       "      <td>31</td>\n",
       "      <td>36000</td>\n",
       "      <td>30</td>\n",
       "      <td>IT</td>\n",
       "    </tr>\n",
       "    <tr>\n",
       "      <th>13</th>\n",
       "      <td>14</td>\n",
       "      <td>24</td>\n",
       "      <td>40000</td>\n",
       "      <td>4</td>\n",
       "      <td>HR</td>\n",
       "    </tr>\n",
       "    <tr>\n",
       "      <th>14</th>\n",
       "      <td>15</td>\n",
       "      <td>27</td>\n",
       "      <td>55000</td>\n",
       "      <td>35</td>\n",
       "      <td>Finance</td>\n",
       "    </tr>\n",
       "  </tbody>\n",
       "</table>\n",
       "</div>"
      ],
      "text/plain": [
       "    Employee_ID  Age  Salary  Experience Department\n",
       "0             1   22   30000           1         HR\n",
       "1             2   25   35000           3         IT\n",
       "2             3   28   32000           2    Finance\n",
       "3             4   23   40000           4         IT\n",
       "4             5   24   38000           3         HR\n",
       "5             6   27   42000           5    Finance\n",
       "6             7   30   50000           3         IT\n",
       "7             8   26   36000           3         HR\n",
       "8             9   30   39000           4    Finance\n",
       "9            10   25   41000           5         IT\n",
       "10           11   29   37000           3         HR\n",
       "11           12   40   38500           6    Finance\n",
       "12           13   31   36000          30         IT\n",
       "13           14   24   40000           4         HR\n",
       "14           15   27   55000          35    Finance"
      ]
     },
     "execution_count": 130,
     "metadata": {},
     "output_type": "execute_result"
    }
   ],
   "source": [
    "data = {\n",
    "    'Employee_ID': range(1, 16),\n",
    "    'Age': [22, 25, 28, 23, 24, 27, 30, 26, 30, 25, 29, 40, 31, 24, 27],\n",
    "    'Salary': [30000, 35000, 32000, 40000, 38000, 42000, 50000, 36000, 39000, 41000, 37000, 38500, 36000, 40000, 55000],\n",
    "    'Experience': [1, 3, 2, 4, 3, 5, 3, 3, 4, 5, 3, 6, 30, 4, 35],  # Outliers: 40, 35\n",
    "    'Department': ['HR', 'IT', 'Finance', 'IT', 'HR', 'Finance', 'IT', 'HR', 'Finance', 'IT', 'HR', 'Finance', 'IT', 'HR', 'Finance']\n",
    "}\n",
    "\n",
    "df = pd.DataFrame(data)\n",
    "df"
   ]
  },
  {
   "cell_type": "code",
   "execution_count": 85,
   "id": "4fba7d7a-cdd5-474b-9ba1-e24749a622dd",
   "metadata": {},
   "outputs": [
    {
     "data": {
      "text/html": [
       "<div>\n",
       "<style scoped>\n",
       "    .dataframe tbody tr th:only-of-type {\n",
       "        vertical-align: middle;\n",
       "    }\n",
       "\n",
       "    .dataframe tbody tr th {\n",
       "        vertical-align: top;\n",
       "    }\n",
       "\n",
       "    .dataframe thead th {\n",
       "        text-align: right;\n",
       "    }\n",
       "</style>\n",
       "<table border=\"1\" class=\"dataframe\">\n",
       "  <thead>\n",
       "    <tr style=\"text-align: right;\">\n",
       "      <th></th>\n",
       "      <th>Employee_ID</th>\n",
       "      <th>Age</th>\n",
       "      <th>Salary</th>\n",
       "      <th>Experience</th>\n",
       "    </tr>\n",
       "  </thead>\n",
       "  <tbody>\n",
       "    <tr>\n",
       "      <th>count</th>\n",
       "      <td>15.000000</td>\n",
       "      <td>15.00000</td>\n",
       "      <td>15.000000</td>\n",
       "      <td>15.000000</td>\n",
       "    </tr>\n",
       "    <tr>\n",
       "      <th>mean</th>\n",
       "      <td>8.000000</td>\n",
       "      <td>27.40000</td>\n",
       "      <td>39300.000000</td>\n",
       "      <td>7.400000</td>\n",
       "    </tr>\n",
       "    <tr>\n",
       "      <th>std</th>\n",
       "      <td>4.472136</td>\n",
       "      <td>4.42073</td>\n",
       "      <td>6323.990603</td>\n",
       "      <td>10.308111</td>\n",
       "    </tr>\n",
       "    <tr>\n",
       "      <th>min</th>\n",
       "      <td>1.000000</td>\n",
       "      <td>22.00000</td>\n",
       "      <td>30000.000000</td>\n",
       "      <td>1.000000</td>\n",
       "    </tr>\n",
       "    <tr>\n",
       "      <th>25%</th>\n",
       "      <td>4.500000</td>\n",
       "      <td>24.50000</td>\n",
       "      <td>36000.000000</td>\n",
       "      <td>3.000000</td>\n",
       "    </tr>\n",
       "    <tr>\n",
       "      <th>50%</th>\n",
       "      <td>8.000000</td>\n",
       "      <td>27.00000</td>\n",
       "      <td>38500.000000</td>\n",
       "      <td>4.000000</td>\n",
       "    </tr>\n",
       "    <tr>\n",
       "      <th>75%</th>\n",
       "      <td>11.500000</td>\n",
       "      <td>29.50000</td>\n",
       "      <td>40500.000000</td>\n",
       "      <td>5.000000</td>\n",
       "    </tr>\n",
       "    <tr>\n",
       "      <th>max</th>\n",
       "      <td>15.000000</td>\n",
       "      <td>40.00000</td>\n",
       "      <td>55000.000000</td>\n",
       "      <td>35.000000</td>\n",
       "    </tr>\n",
       "  </tbody>\n",
       "</table>\n",
       "</div>"
      ],
      "text/plain": [
       "       Employee_ID       Age        Salary  Experience\n",
       "count    15.000000  15.00000     15.000000   15.000000\n",
       "mean      8.000000  27.40000  39300.000000    7.400000\n",
       "std       4.472136   4.42073   6323.990603   10.308111\n",
       "min       1.000000  22.00000  30000.000000    1.000000\n",
       "25%       4.500000  24.50000  36000.000000    3.000000\n",
       "50%       8.000000  27.00000  38500.000000    4.000000\n",
       "75%      11.500000  29.50000  40500.000000    5.000000\n",
       "max      15.000000  40.00000  55000.000000   35.000000"
      ]
     },
     "execution_count": 85,
     "metadata": {},
     "output_type": "execute_result"
    }
   ],
   "source": [
    "df.describe()"
   ]
  },
  {
   "cell_type": "markdown",
   "id": "c4b882dc-d341-4b0a-b46e-ac8f21b24bc8",
   "metadata": {},
   "source": [
    "# Detect Outliers:\n",
    "- <h4> Visualization-Based Methods </h4>\n",
    "- <h4> Statistical Methods </h4>\n",
    "- <h4> Conditional Methods </h4>"
   ]
  },
  {
   "cell_type": "markdown",
   "id": "3a347d65-525f-406c-bf96-8d3d680a7f03",
   "metadata": {},
   "source": [
    "## 1. Visualization-Based Method\n",
    "<h4> i. Boxplot </h4>\n",
    "<h4> ii. Scatter Plot</h4>\n",
    "<h4> iii. Histogram </h4>\n"
   ]
  },
  {
   "cell_type": "markdown",
   "id": "4ddda4d8-5ae7-4d5f-a3bc-52e13e65e603",
   "metadata": {},
   "source": [
    "## i. Boxplot"
   ]
  },
  {
   "cell_type": "code",
   "execution_count": 86,
   "id": "b7150c27-46a2-484c-ba46-7a9d5cc45eaf",
   "metadata": {},
   "outputs": [
    {
     "data": {
      "image/png": "[encoded data removed]",
      "text/plain": [
       "<Figure size 800x500 with 1 Axes>"
      ]
     },
     "metadata": {},
     "output_type": "display_data"
    }
   ],
   "source": [
    "plt.figure(figsize=(8,5))\n",
    "sns.boxplot(y=df['Salary'], color='skyblue')\n",
    "plt.title(\"Boxplot of Employee Salary\")\n",
    "plt.ylabel(\"Salary\")\n",
    "\n",
    "x_pos = 0\n",
    "outlier_y = [50000, 55000]\n",
    "\n",
    "for y in outlier_y:\n",
    "    plt.annotate('Outlier', xy=(x_pos, y), xytext=(x_pos-0.2, y),\n",
    "                 arrowprops=dict(facecolor='red', arrowstyle='->', lw=2),\n",
    "                 color='red', fontsize=10)\n",
    "\n",
    "plt.title(\"Salary Boxplot with Outliers Highlighted Using x,y\")\n",
    "plt.ylabel(\"Salary\")\n",
    "plt.show()\n"
   ]
  },
  {
   "cell_type": "markdown",
   "id": "ba4d6a1f-f48f-4643-a708-84cb6fa126a4",
   "metadata": {},
   "source": [
    "## ii. Scatter Plot"
   ]
  },
  {
   "cell_type": "code",
   "execution_count": 87,
   "id": "c0f02bda-84ea-4959-849b-80cdc90d2b6e",
   "metadata": {},
   "outputs": [
    {
     "data": {
      "image/png": "[encoded data removed]",
      "text/plain": [
       "<Figure size 800x400 with 1 Axes>"
      ]
     },
     "metadata": {},
     "output_type": "display_data"
    }
   ],
   "source": [
    "plt.figure(figsize=(8,4))\n",
    "plt.scatter(df['Employee_ID'], df['Experience'], color='skyblue', s=80)\n",
    "\n",
    "plt.title(\"Experience Scatter Plot with Outliers (Static)\")\n",
    "plt.xlabel(\"Employee ID\")\n",
    "plt.ylabel(\"Experience (Years)\")\n",
    "\n",
    "outlier_points = [(15, 35), (13, 30)]\n",
    "\n",
    "for x, y in outlier_points:\n",
    "    plt.annotate('Outlier', xy=(x, y), xytext=(x, y+4),\n",
    "                 arrowprops=dict(facecolor='red', arrowstyle='->', lw=2),\n",
    "                 color='red', fontsize=10)\n",
    "\n",
    "plt.show()"
   ]
  },
  {
   "cell_type": "markdown",
   "id": "b74e9fee-f220-4ef1-95f9-ac9ecb389f51",
   "metadata": {},
   "source": [
    "## iii. Histogram"
   ]
  },
  {
   "cell_type": "code",
   "execution_count": 100,
   "id": "f4a6c3ed-5715-4ae9-b29d-b512475a1df2",
   "metadata": {},
   "outputs": [
    {
     "data": {
      "image/png": "[encoded data removed]",
      "text/plain": [
       "<Figure size 800x500 with 1 Axes>"
      ]
     },
     "metadata": {},
     "output_type": "display_data"
    }
   ],
   "source": [
    "plt.figure(figsize=(8,5))\n",
    "plt.hist(df['Age'], bins=10, color='skyblue', edgecolor='black')\n",
    "plt.title(\"Age Distribution with 40 Highlighted\")\n",
    "plt.xlabel(\"Age\")\n",
    "plt.ylabel(\"Frequency\")\n",
    "\n",
    "plt.annotate('Outlier', xy=(39, 1), xytext=(38, 1.5),\n",
    "             arrowprops=dict(facecolor='red', arrowstyle='->', lw=2),\n",
    "             color='red', fontsize=10)\n",
    "\n",
    "plt.show()"
   ]
  },
  {
   "cell_type": "markdown",
   "id": "887a7cbc-e826-441d-b461-ffff7ac454b1",
   "metadata": {},
   "source": [
    "## 2. Statistical Methods"
   ]
  },
  {
   "cell_type": "markdown",
   "id": "14ad276f-dfe2-4582-9c59-41cc68554553",
   "metadata": {},
   "source": [
    "### i. Z-Score"
   ]
  },
  {
   "cell_type": "code",
   "execution_count": 138,
   "id": "3e7f4623-dd89-4591-9a67-fa8ad15c8b3e",
   "metadata": {},
   "outputs": [
    {
     "name": "stdout",
     "output_type": "stream",
     "text": [
      "12    30\n",
      "14    35\n",
      "Name: Experience, dtype: int64\n"
     ]
    }
   ],
   "source": [
    "xbar = df['Experience'].mean()\n",
    "sigma = df['Experience'].std()\n",
    "\n",
    "df['Z_score'] = (df['Experience'] - xbar) / sigma\n",
    "out_exp = df[df['Z_score'] > 0]\n",
    "print(out_exp['Experience'])"
   ]
  },
  {
   "cell_type": "markdown",
   "id": "5c11af4d-a2aa-4e42-971a-28add6f96977",
   "metadata": {},
   "source": [
    "### ii. IQR(Interquartile Range)"
   ]
  },
  {
   "cell_type": "code",
   "execution_count": 139,
   "id": "1397758c-30d4-4e63-b138-530bdd0fe05d",
   "metadata": {},
   "outputs": [
    {
     "name": "stdout",
     "output_type": "stream",
     "text": [
      "11    40\n",
      "Name: Age, dtype: int64\n"
     ]
    }
   ],
   "source": [
    "Q1 = df['Age'].quantile(0.25)\n",
    "Q3 = df['Age'].quantile(0.75)\n",
    "IQR = Q3 - Q1\n",
    "\n",
    "lower_bound = Q1 - 1.5 * IQR\n",
    "upper_bound = Q3 + 1.5 * IQR\n",
    "\n",
    "out_age = df[(df['Age'] < lower_bound) | (df['Age'] > upper_bound)]\n",
    "print(out_age['Age'])"
   ]
  },
  {
   "cell_type": "markdown",
   "id": "77433446-9b42-48e3-9e2d-822d4429d19d",
   "metadata": {},
   "source": [
    "## 3. Conditional Method"
   ]
  },
  {
   "cell_type": "code",
   "execution_count": 140,
   "id": "af4432d5-8bb6-4fd2-9ec3-ce29c969d383",
   "metadata": {},
   "outputs": [
    {
     "data": {
      "text/plain": [
       "6     50000\n",
       "14    55000\n",
       "Name: Salary, dtype: int64"
      ]
     },
     "execution_count": 140,
     "metadata": {},
     "output_type": "execute_result"
    }
   ],
   "source": [
    "out_cnd = df[df['Salary'] >= 50000]\n",
    "out_cnd['Salary']"
   ]
  },
  {
   "cell_type": "code",
   "execution_count": null,
   "id": "e7381092-d975-488a-8c7b-ad2bfd3b7179",
   "metadata": {},
   "outputs": [],
   "source": []
  }
 ],
 "metadata": {
  "kernelspec": {
   "display_name": "Python 3 (ipykernel)",
   "language": "python",
   "name": "python3"
  },
  "language_info": {
   "codemirror_mode": {
    "name": "ipython",
    "version": 3
   },
   "file_extension": ".py",
   "mimetype": "text/x-python",
   "name": "python",
   "nbconvert_exporter": "python",
   "pygments_lexer": "ipython3",
   "version": "3.13.3"
  }
 },
 "nbformat": 4,
 "nbformat_minor": 5
}
