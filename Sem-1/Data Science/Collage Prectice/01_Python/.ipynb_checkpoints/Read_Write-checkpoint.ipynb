{
 "cells": [
  {
   "cell_type": "code",
   "execution_count": 4,
   "id": "a000f2d2-75a9-4c9e-9911-a938b3756995",
   "metadata": {},
   "outputs": [
    {
     "name": "stdout",
     "output_type": "stream",
     "text": [
      "id:1,2,3\n",
      "name:abc,pqr,xyz\n"
     ]
    }
   ],
   "source": [
    "with open('test1.txt',\"r\")as file:\n",
    "    data = file.read()\n",
    "print (data)"
   ]
  },
  {
   "cell_type": "code",
   "execution_count": 5,
   "id": "3aa7764b-20c4-4276-9772-0a1707100c50",
   "metadata": {},
   "outputs": [
    {
     "name": "stdout",
     "output_type": "stream",
     "text": [
      "id:1,2,3\n",
      "name:abc,pqr,xyz\n"
     ]
    }
   ],
   "source": [
    "with open(\"test1.txt\",\"a\") as file:\n",
    "    file.write(\"\\n4 sss\")\n",
    "    file.write(\"\\n5 yry\")\n",
    "print(data)"
   ]
  },
  {
   "cell_type": "code",
   "execution_count": 6,
   "id": "68bf6b22-3148-46aa-ba70-f7008ac899be",
   "metadata": {},
   "outputs": [
    {
     "name": "stdout",
     "output_type": "stream",
     "text": [
      "id:1,2,3\n",
      "name:abc,pqr,xyz\n"
     ]
    }
   ],
   "source": [
    "with open(\"test1.txt\",\"a\") as file:\n",
    "    file.write(\"\\n4 sss\")\n",
    "    file.write(\"\\n5 yry\")\n",
    "print(data)"
   ]
  },
  {
   "cell_type": "code",
   "execution_count": 7,
   "id": "b5f9d212-b8a5-4a0a-a30a-0f1fb3f6e676",
   "metadata": {},
   "outputs": [
    {
     "name": "stdout",
     "output_type": "stream",
     "text": [
      "id:1,2,3\n",
      "name:abc,pqr,xyz\n",
      "4 sss\n",
      "5 yry\n",
      "4 sss\n",
      "5 yry\n"
     ]
    }
   ],
   "source": [
    "with open('test1.txt',\"r\")as file:\n",
    "    data = file.read()\n",
    "print (data)"
   ]
  },
  {
   "cell_type": "code",
   "execution_count": 10,
   "id": "01a33913-4b49-4481-8a1c-ba65c8460ca1",
   "metadata": {},
   "outputs": [
    {
     "name": "stdout",
     "output_type": "stream",
     "text": [
      "id:1,2,3\n",
      "name:abc,pqr,xyz\n",
      "4 sss\n",
      "5 yry\n",
      "4 sss\n",
      "5 yry\n"
     ]
    }
   ],
   "source": [
    "with open(\"test1.txt\")as file:\n",
    "    data_list=file.read()\n",
    "    print(data_list)"
   ]
  },
  {
   "cell_type": "code",
   "execution_count": null,
   "id": "c68193d7-ad40-42f0-bd86-4490647813a0",
   "metadata": {},
   "outputs": [],
   "source": [
    "with open(\"test1.txt\",\"r\")as file:\n",
    "    file.write(\"4\",\"\")"
   ]
  }
 ],
 "metadata": {
  "kernelspec": {
   "display_name": "Python 3 (ipykernel)",
   "language": "python",
   "name": "python3"
  },
  "language_info": {
   "codemirror_mode": {
    "name": "ipython",
    "version": 3
   },
   "file_extension": ".py",
   "mimetype": "text/x-python",
   "name": "python",
   "nbconvert_exporter": "python",
   "pygments_lexer": "ipython3",
   "version": "3.13.3"
  }
 },
 "nbformat": 4,
 "nbformat_minor": 5
}
