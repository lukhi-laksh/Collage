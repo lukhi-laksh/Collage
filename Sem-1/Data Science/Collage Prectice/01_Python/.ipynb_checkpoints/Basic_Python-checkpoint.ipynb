{
 "cells": [
  {
   "cell_type": "code",
   "execution_count": 1,
   "id": "755811d3-e2b8-4e92-9654-f80a4496f2a1",
   "metadata": {},
   "outputs": [
    {
     "name": "stdout",
     "output_type": "stream",
     "text": [
      "hello world\n"
     ]
    }
   ],
   "source": [
    "print(\"hello world\")"
   ]
  },
  {
   "cell_type": "code",
   "execution_count": 2,
   "id": "b20c19ab-47aa-4bf5-8bc2-731b562a9746",
   "metadata": {},
   "outputs": [
    {
     "name": "stdin",
     "output_type": "stream",
     "text": [
      "length in cm 30\n",
      "breadth in cm 20\n"
     ]
    },
    {
     "name": "stdout",
     "output_type": "stream",
     "text": [
      "your area of rectangle is: 600 cm^2\n"
     ]
    }
   ],
   "source": [
    "l=int(input(\"length in cm\"))\n",
    "b=int(input(\"breadth in cm\"))\n",
    "a=l*b\n",
    "print(\"your area of rectangle is:\",a,\"cm^2\")"
   ]
  },
  {
   "cell_type": "code",
   "execution_count": 4,
   "id": "0714bc7e-b393-4267-82bc-e5e4e6e84551",
   "metadata": {},
   "outputs": [
    {
     "name": "stdin",
     "output_type": "stream",
     "text": [
      "enter your radius 20\n"
     ]
    },
    {
     "name": "stdout",
     "output_type": "stream",
     "text": [
      "your area is: 1257.142857142857\n"
     ]
    }
   ],
   "source": [
    "r=int(input(\"enter your radius\"))\n",
    "a=22/7*(r*r)\n",
    "print(\"your area is:\",a)"
   ]
  },
  {
   "cell_type": "code",
   "execution_count": 5,
   "id": "862cac16-7a12-49f7-a1b7-4d6bda0819ac",
   "metadata": {},
   "outputs": [
    {
     "name": "stdin",
     "output_type": "stream",
     "text": [
      "enter lengh 10\n",
      "enter breadth 30\n",
      "enter height 20\n"
     ]
    },
    {
     "name": "stdout",
     "output_type": "stream",
     "text": [
      "the area is: 2200\n"
     ]
    }
   ],
   "source": [
    "l=int(input(\"enter lengh\"))\n",
    "b=int(input(\"enter breadth\"))\n",
    "h=int(input(\"enter height\"))\n",
    "a=2*(l*b+b*h+h*l)\n",
    "print(\"the area is:\",a)"
   ]
  },
  {
   "cell_type": "code",
   "execution_count": 2,
   "id": "08ac9288-c240-46d8-b833-790c4473fe89",
   "metadata": {},
   "outputs": [
    {
     "name": "stdin",
     "output_type": "stream",
     "text": [
      "enter length of cube 5\n"
     ]
    },
    {
     "name": "stdout",
     "output_type": "stream",
     "text": [
      "the area of cube is: 150\n"
     ]
    }
   ],
   "source": [
    "a=int(input(\"enter length of cube\"))\n",
    "x=6*(a*a)\n",
    "print(\"the area of cube is:\",x)"
   ]
  },
  {
   "cell_type": "code",
   "execution_count": 1,
   "id": "fa3efdcc-f2cf-48f1-b5a3-33ef53716857",
   "metadata": {},
   "outputs": [
    {
     "name": "stdin",
     "output_type": "stream",
     "text": [
      "enter radius 5\n",
      "enter height 5\n"
     ]
    },
    {
     "name": "stdout",
     "output_type": "stream",
     "text": [
      "your c.s.a is: 157.0\n"
     ]
    }
   ],
   "source": [
    "r=int(input(\"enter radius\"))\n",
    "h=int(input(\"enter height\"))\n",
    "a=2*(3.14*(r*h))\n",
    "print(\"your c.s.a is:\",a)"
   ]
  },
  {
   "cell_type": "code",
   "execution_count": 3,
   "id": "9816869f-c012-4b3a-8421-636884346967",
   "metadata": {},
   "outputs": [
    {
     "name": "stdin",
     "output_type": "stream",
     "text": [
      "enter radius 5\n",
      "enter height 6\n"
     ]
    },
    {
     "name": "stdout",
     "output_type": "stream",
     "text": [
      "area is: 345.40000000000003\n"
     ]
    }
   ],
   "source": [
    "r=int(input(\"enter radius\"))\n",
    "h=int(input(\"enter height\"))\n",
    "a=2*3.14*r*(r+h)\n",
    "print(\"area is:\",a)"
   ]
  },
  {
   "cell_type": "code",
   "execution_count": 4,
   "id": "860a1941-9d0d-49ab-8a4c-083fa85e1fd4",
   "metadata": {},
   "outputs": [
    {
     "name": "stdin",
     "output_type": "stream",
     "text": [
      "enter radius 4\n",
      "enter length 3\n"
     ]
    },
    {
     "name": "stdout",
     "output_type": "stream",
     "text": [
      "csa is: 12.56\n"
     ]
    }
   ],
   "source": [
    "r=int(input(\"enter radius\"))\n",
    "l=int(input(\"enter length\"))\n",
    "a=3.14*r*1\n",
    "print(\"csa is:\",a)"
   ]
  },
  {
   "cell_type": "code",
   "execution_count": 5,
   "id": "361ce718-b20e-4b12-94c7-01bd2cf1495c",
   "metadata": {},
   "outputs": [
    {
     "name": "stdin",
     "output_type": "stream",
     "text": [
      "enter radius 5\n",
      "enter length 6\n"
     ]
    },
    {
     "name": "stdout",
     "output_type": "stream",
     "text": [
      "csa is: 94.2\n"
     ]
    }
   ],
   "source": [
    "r=int(input(\"enter radius\"))\n",
    "l=int(input(\"enter length\"))\n",
    "a=3.14*r*l\n",
    "print(\"csa is:\",a)"
   ]
  },
  {
   "cell_type": "code",
   "execution_count": 6,
   "id": "2b748433-513f-415b-b3f6-b1c63b6998f0",
   "metadata": {},
   "outputs": [
    {
     "name": "stdin",
     "output_type": "stream",
     "text": [
      "enter radius 4\n",
      "enter slant height5 5\n"
     ]
    },
    {
     "name": "stdout",
     "output_type": "stream",
     "text": [
      "the tsa is: 113.04\n"
     ]
    }
   ],
   "source": [
    "r=int(input(\"enter radius\"))\n",
    "l=int(input(\"enter slant height5\"))\n",
    "a=3.14*r*(l+r)\n",
    "print(\"the tsa is:\",a)"
   ]
  },
  {
   "cell_type": "code",
   "execution_count": 7,
   "id": "35546e03-ba32-4667-b4a5-a06b11e93254",
   "metadata": {},
   "outputs": [
    {
     "name": "stdin",
     "output_type": "stream",
     "text": [
      "enter radius 5\n"
     ]
    },
    {
     "name": "stdout",
     "output_type": "stream",
     "text": [
      "tsa of sphere is: 314.0\n"
     ]
    }
   ],
   "source": [
    "r=int(input(\"enter radius\"))\n",
    "a=4*(3.14*(r*r))\n",
    "print(\"tsa of sphere is:\",a)"
   ]
  },
  {
   "cell_type": "code",
   "execution_count": 8,
   "id": "1b1b7161-d7ce-47ab-bf19-ecbe9a5b1c88",
   "metadata": {},
   "outputs": [
    {
     "name": "stdin",
     "output_type": "stream",
     "text": [
      "enter length 5\n",
      "enter breadth 5\n",
      "enter height 5\n"
     ]
    },
    {
     "name": "stdout",
     "output_type": "stream",
     "text": [
      "the volume of cuboid is: 125\n"
     ]
    }
   ],
   "source": [
    "l=int(input(\"enter length\"))\n",
    "b=int(input(\"enter breadth\"))\n",
    "h=int(input(\"enter height\"))\n",
    "a=l*b*h\n",
    "print(\"the volume of cuboid is:\",a)"
   ]
  },
  {
   "cell_type": "code",
   "execution_count": 9,
   "id": "3a0075cf-5096-4934-b97f-db2f53024d87",
   "metadata": {},
   "outputs": [
    {
     "name": "stdin",
     "output_type": "stream",
     "text": [
      "enter length 5\n"
     ]
    },
    {
     "name": "stdout",
     "output_type": "stream",
     "text": [
      "the volume of cube is: 125\n"
     ]
    }
   ],
   "source": [
    "l=int(input(\"enter length\"))\n",
    "a=l*l*l\n",
    "print(\"the volume of cube is:\",a)"
   ]
  },
  {
   "cell_type": "code",
   "execution_count": 10,
   "id": "c5693144-9b2b-49ab-8e35-1ed9d4927327",
   "metadata": {},
   "outputs": [
    {
     "name": "stdin",
     "output_type": "stream",
     "text": [
      "enter radius 5\n",
      "enter height 5\n"
     ]
    },
    {
     "name": "stdout",
     "output_type": "stream",
     "text": [
      "volume is: 392.5\n"
     ]
    }
   ],
   "source": [
    "r=int(input(\"enter radius\"))\n",
    "h=int(input(\"enter height\"))\n",
    "v=3.14*(r*r)*h\n",
    "print(\"volume is:\",v)"
   ]
  },
  {
   "cell_type": "code",
   "execution_count": 11,
   "id": "fba448d2-f4cb-4700-afed-0b903ddc4ca5",
   "metadata": {},
   "outputs": [
    {
     "name": "stdin",
     "output_type": "stream",
     "text": [
      "enter radius 6\n",
      "enter height 6\n"
     ]
    },
    {
     "name": "stdout",
     "output_type": "stream",
     "text": [
      "volume is: 226.07999999999998\n"
     ]
    }
   ],
   "source": [
    "r=int(input(\"enter radius\"))\n",
    "h=int(input(\"enter height\"))\n",
    "v=1/3*(3.14*(r*r)*h)\n",
    "print(\"volume is:\",v)"
   ]
  },
  {
   "cell_type": "code",
   "execution_count": 1,
   "id": "b3dfe20f-a776-4b4b-83ae-0ba22a15152a",
   "metadata": {},
   "outputs": [
    {
     "name": "stdin",
     "output_type": "stream",
     "text": [
      "enter radius 2\n"
     ]
    },
    {
     "name": "stdout",
     "output_type": "stream",
     "text": [
      "volume is: 33.49333333333333\n"
     ]
    }
   ],
   "source": [
    "r=int(input(\"enter radius\"))\n",
    "v=4/3*(3.14*(r*r*r))\n",
    "print(\"volume is:\",v)"
   ]
  },
  {
   "cell_type": "code",
   "execution_count": 2,
   "id": "b6ba9db5-2ce0-4aab-9e7e-75d5a56c9e7b",
   "metadata": {},
   "outputs": [
    {
     "name": "stdin",
     "output_type": "stream",
     "text": [
      "enter length in cm 26\n",
      "enter breadth in cm 12\n"
     ]
    },
    {
     "name": "stdout",
     "output_type": "stream",
     "text": [
      "Perimeter of rectangle is: 76 cm\n"
     ]
    }
   ],
   "source": [
    "l=int(input(\"enter length in cm\"))\n",
    "b=int(input(\"enter breadth in cm\"))\n",
    "a=2*(l+b)\n",
    "print(\"Perimeter of rectangle is:\",a,\"cm\")"
   ]
  },
  {
   "cell_type": "code",
   "execution_count": 3,
   "id": "81792408-1146-44fa-8924-26526334f2d0",
   "metadata": {},
   "outputs": [
    {
     "name": "stdin",
     "output_type": "stream",
     "text": [
      "enter length in cm 2\n"
     ]
    },
    {
     "name": "stdout",
     "output_type": "stream",
     "text": [
      "your area of square is: 4 cm^2\n"
     ]
    }
   ],
   "source": [
    "A=int(input(\"enter length in cm\"))\n",
    "x=A*A\n",
    "print(\"your area of square is:\",x,\"cm^2\")"
   ]
  },
  {
   "cell_type": "code",
   "execution_count": 5,
   "id": "2d2181a2-cc8a-4ed2-a96e-af573f2ea3a9",
   "metadata": {},
   "outputs": [
    {
     "name": "stdin",
     "output_type": "stream",
     "text": [
      "enter height 4\n",
      "enter base 5\n"
     ]
    },
    {
     "name": "stdout",
     "output_type": "stream",
     "text": [
      "your area is: 10.0 cm^2\n"
     ]
    }
   ],
   "source": [
    "h=int(input(\"enter height\"))\n",
    "b=int(input(\"enter base\"))\n",
    "a=1/2*(b*h)\n",
    "print(\"your area is:\",a,\"cm^2\")"
   ]
  },
  {
   "cell_type": "code",
   "execution_count": 6,
   "id": "8142b4c2-d223-48d1-b599-64280d696ef0",
   "metadata": {},
   "outputs": [
    {
     "name": "stdin",
     "output_type": "stream",
     "text": [
      "enter first no. 5\n",
      "enter second no. 6\n",
      "enter third no. 7\n"
     ]
    },
    {
     "name": "stdout",
     "output_type": "stream",
     "text": [
      "the greatest no. is: 7\n"
     ]
    }
   ],
   "source": [
    "a=int(input(\"enter first no.\"))\n",
    "b=int(input(\"enter second no.\"))\n",
    "c=int(input(\"enter third no.\"))\n",
    "if a>b:\n",
    "    if a>c:\n",
    "        print(\"the greatest no. is:\",a)\n",
    "    else:\n",
    "        print(\"the greatest no. is:\",c)\n",
    "else:\n",
    "    if b>c:\n",
    "        print(\"the greatest no. is:\",b)\n",
    "    else:\n",
    "        print(\"the greatest no. is:\",c)"
   ]
  },
  {
   "cell_type": "code",
   "execution_count": 7,
   "id": "8bd648cb-cfd7-440a-8c05-aefb0b81515a",
   "metadata": {},
   "outputs": [
    {
     "name": "stdin",
     "output_type": "stream",
     "text": [
      "enter first side of triangle 2\n",
      "enter second side of triangle 3\n",
      "enter third side of triangle 3\n"
     ]
    },
    {
     "name": "stdout",
     "output_type": "stream",
     "text": [
      "the perimeter is: 8\n"
     ]
    }
   ],
   "source": [
    "a=int(input(\"enter first side of triangle\"))\n",
    "b=int(input(\"enter second side of triangle\"))\n",
    "c=int(input(\"enter third side of triangle\"))\n",
    "perimeter=a+b+c\n",
    "print(\"the perimeter is:\",perimeter)"
   ]
  },
  {
   "cell_type": "code",
   "execution_count": 8,
   "id": "0040375e-259b-4736-a852-ecacbc63278a",
   "metadata": {},
   "outputs": [
    {
     "name": "stdin",
     "output_type": "stream",
     "text": [
      "enter first no. 55\n",
      "enter second no. 66\n",
      "enter third no. 33\n",
      "enter fourth no. 55\n"
     ]
    },
    {
     "name": "stdout",
     "output_type": "stream",
     "text": [
      "greatest number is: 66\n"
     ]
    }
   ],
   "source": [
    "a=int(input(\"enter first no.\"))\n",
    "b=int(input(\"enter second no.\"))\n",
    "c=int(input(\"enter third no.\"))\n",
    "d=int(input(\"enter fourth no.\"))\n",
    "if (a>b and a>c and a>d):\n",
    "    print(\"greatest number is:\",a)\n",
    "elif (b>c and b>d):\n",
    "    print(\"greatest number is:\",b)\n",
    "elif (c>d):\n",
    "    print(\"greatest number is:\",c)\n",
    "elif (d>c):\n",
    "    print(\"greatest number is:\",d)\n",
    "else:\n",
    "    print(\"Either any two values or all the four values are equal\")"
   ]
  },
  {
   "cell_type": "code",
   "execution_count": 9,
   "id": "97ddb0ed-239a-482e-8994-5c55a03cc6d7",
   "metadata": {},
   "outputs": [
    {
     "name": "stdin",
     "output_type": "stream",
     "text": [
      "enter marks out of 300 250\n"
     ]
    },
    {
     "name": "stdout",
     "output_type": "stream",
     "text": [
      "percentage is 83.33333333333334 %\n",
      "your division is first\n"
     ]
    }
   ],
   "source": [
    "a=int(input(\"enter marks out of 300\"))\n",
    "b=a/300*100\n",
    "print(\"percentage is\",b,\"%\")\n",
    "if (a>300):\n",
    "    print(\"you entered a wrong marks\")\n",
    "elif (b>60):\n",
    "    print(\"your division is first\")\n",
    "elif (b>50 and b>53):\n",
    "    print(\"your division is second\")\n",
    "elif (b>33 and b>50):\n",
    "    print(\"your division is third\")\n",
    "else:\n",
    "    print(\"fail\")"
   ]
  },
  {
   "cell_type": "code",
   "execution_count": 11,
   "id": "63e5917e-f462-47c0-9614-fe00ff997ecf",
   "metadata": {},
   "outputs": [
    {
     "name": "stdin",
     "output_type": "stream",
     "text": [
      "enter your age 17\n"
     ]
    },
    {
     "name": "stdout",
     "output_type": "stream",
     "text": [
      "teenager\n"
     ]
    }
   ],
   "source": [
    "y=int(input(\"enter your age\"))\n",
    "if (y>0 and y<12):\n",
    "    print(\"kid\")\n",
    "elif (y>12 and y<19):\n",
    "    print(\"teenager\")\n",
    "elif (y>19 and y<30):\n",
    "    print(\"young\")\n",
    "elif (y>30 and y<45):\n",
    "    print(\"mature\")\n",
    "elif (y>45 and y<60):\n",
    "    print(\"experience\")\n",
    "elif (y>60 and y<75):\n",
    "    print(\"old\")\n",
    "elif (y>75):\n",
    "    print(\"senior citizen\")"
   ]
  },
  {
   "cell_type": "code",
   "execution_count": 14,
   "id": "7a85697d-f9ca-4e39-a275-3a91de037456",
   "metadata": {},
   "outputs": [
    {
     "name": "stdin",
     "output_type": "stream",
     "text": [
      "enter limit 5\n"
     ]
    },
    {
     "name": "stdout",
     "output_type": "stream",
     "text": [
      "the sum is 10\n"
     ]
    }
   ],
   "source": [
    "n=int(input(\"enter limit\"))\n",
    "s=0\n",
    "for c in range(1,n):\n",
    "    s=c+s\n",
    "print(\"the sum is\",s)"
   ]
  },
  {
   "cell_type": "code",
   "execution_count": null,
   "id": "a4fffc7f-37a9-4ad0-a56b-927960e54b5a",
   "metadata": {},
   "outputs": [],
   "source": []
  }
 ],
 "metadata": {
  "kernelspec": {
   "display_name": "Python 3 (ipykernel)",
   "language": "python",
   "name": "python3"
  },
  "language_info": {
   "codemirror_mode": {
    "name": "ipython",
    "version": 3
   },
   "file_extension": ".py",
   "mimetype": "text/x-python",
   "name": "python",
   "nbconvert_exporter": "python",
   "pygments_lexer": "ipython3",
   "version": "3.13.3"
  }
 },
 "nbformat": 4,
 "nbformat_minor": 5
}
