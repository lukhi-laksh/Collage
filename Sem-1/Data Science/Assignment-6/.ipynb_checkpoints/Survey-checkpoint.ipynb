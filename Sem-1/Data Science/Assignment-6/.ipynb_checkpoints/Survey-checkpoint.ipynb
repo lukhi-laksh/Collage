{
 "cells": [
  {
   "cell_type": "markdown",
   "id": "a9699d28-bd65-47ee-a0f9-cb86674a2470",
   "metadata": {},
   "source": [
    "# Survey Analysis"
   ]
  },
  {
   "cell_type": "markdown",
   "id": "beb74780-bc18-4f33-a1a6-304aec29f2c8",
   "metadata": {},
   "source": [
    "## Q1. Import csv file and perform exploratory data analysis by identifying size of the datasets, column information and null values.."
   ]
  },
  {
   "cell_type": "code",
   "execution_count": 1,
   "id": "5d25cff2-ff16-4204-9ec0-5c0333d21b8d",
   "metadata": {},
   "outputs": [],
   "source": [
    "import numpy as np\n",
    "import pandas as pd\n",
    "import matplotlib.pyplot as plt\n",
    "import seaborn as sns"
   ]
  },
  {
   "cell_type": "markdown",
   "id": "29fd994f-191a-4d32-a06c-27114c331bc8",
   "metadata": {},
   "source": [
    "### A. Import CSV file"
   ]
  },
  {
   "cell_type": "code",
   "execution_count": 2,
   "id": "ef976323-f04e-48ca-90bf-926f769ff1d2",
   "metadata": {},
   "outputs": [
    {
     "data": {
      "text/html": [
       "<div>\n",
       "<style scoped>\n",
       "    .dataframe tbody tr th:only-of-type {\n",
       "        vertical-align: middle;\n",
       "    }\n",
       "\n",
       "    .dataframe tbody tr th {\n",
       "        vertical-align: top;\n",
       "    }\n",
       "\n",
       "    .dataframe thead th {\n",
       "        text-align: right;\n",
       "    }\n",
       "</style>\n",
       "<table border=\"1\" class=\"dataframe\">\n",
       "  <thead>\n",
       "    <tr style=\"text-align: right;\">\n",
       "      <th></th>\n",
       "      <th>Timestamp</th>\n",
       "      <th>Age</th>\n",
       "      <th>Primary streaming service</th>\n",
       "      <th>Hours per day</th>\n",
       "      <th>While working</th>\n",
       "      <th>Instrumentalist</th>\n",
       "      <th>Composer</th>\n",
       "      <th>Fav genre</th>\n",
       "      <th>Exploratory</th>\n",
       "      <th>Foreign languages</th>\n",
       "      <th>...</th>\n",
       "      <th>Frequency [R&amp;B]</th>\n",
       "      <th>Frequency [Rap]</th>\n",
       "      <th>Frequency [Rock]</th>\n",
       "      <th>Frequency [Video game music]</th>\n",
       "      <th>Anxiety</th>\n",
       "      <th>Depression</th>\n",
       "      <th>Insomnia</th>\n",
       "      <th>OCD</th>\n",
       "      <th>Music effects</th>\n",
       "      <th>Permissions</th>\n",
       "    </tr>\n",
       "  </thead>\n",
       "  <tbody>\n",
       "    <tr>\n",
       "      <th>0</th>\n",
       "      <td>8/27/2022 19:29:02</td>\n",
       "      <td>18.0</td>\n",
       "      <td>Spotify</td>\n",
       "      <td>3.0</td>\n",
       "      <td>Yes</td>\n",
       "      <td>Yes</td>\n",
       "      <td>Yes</td>\n",
       "      <td>Latin</td>\n",
       "      <td>Yes</td>\n",
       "      <td>Yes</td>\n",
       "      <td>...</td>\n",
       "      <td>Sometimes</td>\n",
       "      <td>Very frequently</td>\n",
       "      <td>Never</td>\n",
       "      <td>Sometimes</td>\n",
       "      <td>3.0</td>\n",
       "      <td>0.0</td>\n",
       "      <td>1.0</td>\n",
       "      <td>0.0</td>\n",
       "      <td>NaN</td>\n",
       "      <td>I understand.</td>\n",
       "    </tr>\n",
       "    <tr>\n",
       "      <th>1</th>\n",
       "      <td>8/27/2022 19:57:31</td>\n",
       "      <td>63.0</td>\n",
       "      <td>Pandora</td>\n",
       "      <td>1.5</td>\n",
       "      <td>Yes</td>\n",
       "      <td>No</td>\n",
       "      <td>No</td>\n",
       "      <td>Rock</td>\n",
       "      <td>Yes</td>\n",
       "      <td>No</td>\n",
       "      <td>...</td>\n",
       "      <td>Sometimes</td>\n",
       "      <td>Rarely</td>\n",
       "      <td>Very frequently</td>\n",
       "      <td>Rarely</td>\n",
       "      <td>7.0</td>\n",
       "      <td>2.0</td>\n",
       "      <td>2.0</td>\n",
       "      <td>1.0</td>\n",
       "      <td>NaN</td>\n",
       "      <td>I understand.</td>\n",
       "    </tr>\n",
       "    <tr>\n",
       "      <th>2</th>\n",
       "      <td>8/27/2022 21:28:18</td>\n",
       "      <td>18.0</td>\n",
       "      <td>Spotify</td>\n",
       "      <td>4.0</td>\n",
       "      <td>No</td>\n",
       "      <td>No</td>\n",
       "      <td>No</td>\n",
       "      <td>Video game music</td>\n",
       "      <td>No</td>\n",
       "      <td>Yes</td>\n",
       "      <td>...</td>\n",
       "      <td>Never</td>\n",
       "      <td>Rarely</td>\n",
       "      <td>Rarely</td>\n",
       "      <td>Very frequently</td>\n",
       "      <td>7.0</td>\n",
       "      <td>7.0</td>\n",
       "      <td>10.0</td>\n",
       "      <td>2.0</td>\n",
       "      <td>No effect</td>\n",
       "      <td>I understand.</td>\n",
       "    </tr>\n",
       "    <tr>\n",
       "      <th>3</th>\n",
       "      <td>8/27/2022 21:40:40</td>\n",
       "      <td>61.0</td>\n",
       "      <td>YouTube Music</td>\n",
       "      <td>2.5</td>\n",
       "      <td>Yes</td>\n",
       "      <td>No</td>\n",
       "      <td>Yes</td>\n",
       "      <td>Jazz</td>\n",
       "      <td>Yes</td>\n",
       "      <td>Yes</td>\n",
       "      <td>...</td>\n",
       "      <td>Sometimes</td>\n",
       "      <td>Never</td>\n",
       "      <td>Never</td>\n",
       "      <td>Never</td>\n",
       "      <td>9.0</td>\n",
       "      <td>7.0</td>\n",
       "      <td>3.0</td>\n",
       "      <td>3.0</td>\n",
       "      <td>Improve</td>\n",
       "      <td>I understand.</td>\n",
       "    </tr>\n",
       "    <tr>\n",
       "      <th>4</th>\n",
       "      <td>8/27/2022 21:54:47</td>\n",
       "      <td>18.0</td>\n",
       "      <td>Spotify</td>\n",
       "      <td>4.0</td>\n",
       "      <td>Yes</td>\n",
       "      <td>No</td>\n",
       "      <td>No</td>\n",
       "      <td>R&amp;B</td>\n",
       "      <td>Yes</td>\n",
       "      <td>No</td>\n",
       "      <td>...</td>\n",
       "      <td>Very frequently</td>\n",
       "      <td>Very frequently</td>\n",
       "      <td>Never</td>\n",
       "      <td>Rarely</td>\n",
       "      <td>7.0</td>\n",
       "      <td>2.0</td>\n",
       "      <td>5.0</td>\n",
       "      <td>9.0</td>\n",
       "      <td>Improve</td>\n",
       "      <td>I understand.</td>\n",
       "    </tr>\n",
       "    <tr>\n",
       "      <th>...</th>\n",
       "      <td>...</td>\n",
       "      <td>...</td>\n",
       "      <td>...</td>\n",
       "      <td>...</td>\n",
       "      <td>...</td>\n",
       "      <td>...</td>\n",
       "      <td>...</td>\n",
       "      <td>...</td>\n",
       "      <td>...</td>\n",
       "      <td>...</td>\n",
       "      <td>...</td>\n",
       "      <td>...</td>\n",
       "      <td>...</td>\n",
       "      <td>...</td>\n",
       "      <td>...</td>\n",
       "      <td>...</td>\n",
       "      <td>...</td>\n",
       "      <td>...</td>\n",
       "      <td>...</td>\n",
       "      <td>...</td>\n",
       "      <td>...</td>\n",
       "    </tr>\n",
       "    <tr>\n",
       "      <th>731</th>\n",
       "      <td>10/30/2022 14:37:28</td>\n",
       "      <td>17.0</td>\n",
       "      <td>Spotify</td>\n",
       "      <td>2.0</td>\n",
       "      <td>Yes</td>\n",
       "      <td>Yes</td>\n",
       "      <td>No</td>\n",
       "      <td>Rock</td>\n",
       "      <td>Yes</td>\n",
       "      <td>Yes</td>\n",
       "      <td>...</td>\n",
       "      <td>Never</td>\n",
       "      <td>Rarely</td>\n",
       "      <td>Very frequently</td>\n",
       "      <td>Never</td>\n",
       "      <td>7.0</td>\n",
       "      <td>6.0</td>\n",
       "      <td>0.0</td>\n",
       "      <td>9.0</td>\n",
       "      <td>Improve</td>\n",
       "      <td>I understand.</td>\n",
       "    </tr>\n",
       "    <tr>\n",
       "      <th>732</th>\n",
       "      <td>11/1/2022 22:26:42</td>\n",
       "      <td>18.0</td>\n",
       "      <td>Spotify</td>\n",
       "      <td>1.0</td>\n",
       "      <td>Yes</td>\n",
       "      <td>Yes</td>\n",
       "      <td>No</td>\n",
       "      <td>Pop</td>\n",
       "      <td>Yes</td>\n",
       "      <td>Yes</td>\n",
       "      <td>...</td>\n",
       "      <td>Never</td>\n",
       "      <td>Never</td>\n",
       "      <td>Sometimes</td>\n",
       "      <td>Sometimes</td>\n",
       "      <td>3.0</td>\n",
       "      <td>2.0</td>\n",
       "      <td>2.0</td>\n",
       "      <td>5.0</td>\n",
       "      <td>Improve</td>\n",
       "      <td>I understand.</td>\n",
       "    </tr>\n",
       "    <tr>\n",
       "      <th>733</th>\n",
       "      <td>11/3/2022 23:24:38</td>\n",
       "      <td>19.0</td>\n",
       "      <td>Other streaming service</td>\n",
       "      <td>6.0</td>\n",
       "      <td>Yes</td>\n",
       "      <td>No</td>\n",
       "      <td>Yes</td>\n",
       "      <td>Rap</td>\n",
       "      <td>Yes</td>\n",
       "      <td>No</td>\n",
       "      <td>...</td>\n",
       "      <td>Sometimes</td>\n",
       "      <td>Sometimes</td>\n",
       "      <td>Rarely</td>\n",
       "      <td>Rarely</td>\n",
       "      <td>2.0</td>\n",
       "      <td>2.0</td>\n",
       "      <td>2.0</td>\n",
       "      <td>2.0</td>\n",
       "      <td>Improve</td>\n",
       "      <td>I understand.</td>\n",
       "    </tr>\n",
       "    <tr>\n",
       "      <th>734</th>\n",
       "      <td>11/4/2022 17:31:47</td>\n",
       "      <td>19.0</td>\n",
       "      <td>Spotify</td>\n",
       "      <td>5.0</td>\n",
       "      <td>Yes</td>\n",
       "      <td>Yes</td>\n",
       "      <td>No</td>\n",
       "      <td>Classical</td>\n",
       "      <td>No</td>\n",
       "      <td>No</td>\n",
       "      <td>...</td>\n",
       "      <td>Never</td>\n",
       "      <td>Never</td>\n",
       "      <td>Never</td>\n",
       "      <td>Sometimes</td>\n",
       "      <td>2.0</td>\n",
       "      <td>3.0</td>\n",
       "      <td>2.0</td>\n",
       "      <td>1.0</td>\n",
       "      <td>Improve</td>\n",
       "      <td>I understand.</td>\n",
       "    </tr>\n",
       "    <tr>\n",
       "      <th>735</th>\n",
       "      <td>11/9/2022 1:55:20</td>\n",
       "      <td>29.0</td>\n",
       "      <td>YouTube Music</td>\n",
       "      <td>2.0</td>\n",
       "      <td>Yes</td>\n",
       "      <td>No</td>\n",
       "      <td>No</td>\n",
       "      <td>Hip hop</td>\n",
       "      <td>Yes</td>\n",
       "      <td>Yes</td>\n",
       "      <td>...</td>\n",
       "      <td>Very frequently</td>\n",
       "      <td>Very frequently</td>\n",
       "      <td>Very frequently</td>\n",
       "      <td>Rarely</td>\n",
       "      <td>2.0</td>\n",
       "      <td>2.0</td>\n",
       "      <td>2.0</td>\n",
       "      <td>5.0</td>\n",
       "      <td>Improve</td>\n",
       "      <td>I understand.</td>\n",
       "    </tr>\n",
       "  </tbody>\n",
       "</table>\n",
       "<p>736 rows × 33 columns</p>\n",
       "</div>"
      ],
      "text/plain": [
       "               Timestamp   Age Primary streaming service  Hours per day  \\\n",
       "0     8/27/2022 19:29:02  18.0                   Spotify            3.0   \n",
       "1     8/27/2022 19:57:31  63.0                   Pandora            1.5   \n",
       "2     8/27/2022 21:28:18  18.0                   Spotify            4.0   \n",
       "3     8/27/2022 21:40:40  61.0             YouTube Music            2.5   \n",
       "4     8/27/2022 21:54:47  18.0                   Spotify            4.0   \n",
       "..                   ...   ...                       ...            ...   \n",
       "731  10/30/2022 14:37:28  17.0                   Spotify            2.0   \n",
       "732   11/1/2022 22:26:42  18.0                   Spotify            1.0   \n",
       "733   11/3/2022 23:24:38  19.0   Other streaming service            6.0   \n",
       "734   11/4/2022 17:31:47  19.0                   Spotify            5.0   \n",
       "735    11/9/2022 1:55:20  29.0             YouTube Music            2.0   \n",
       "\n",
       "    While working Instrumentalist Composer         Fav genre Exploratory  \\\n",
       "0             Yes             Yes      Yes             Latin         Yes   \n",
       "1             Yes              No       No              Rock         Yes   \n",
       "2              No              No       No  Video game music          No   \n",
       "3             Yes              No      Yes              Jazz         Yes   \n",
       "4             Yes              No       No               R&B         Yes   \n",
       "..            ...             ...      ...               ...         ...   \n",
       "731           Yes             Yes       No              Rock         Yes   \n",
       "732           Yes             Yes       No               Pop         Yes   \n",
       "733           Yes              No      Yes               Rap         Yes   \n",
       "734           Yes             Yes       No         Classical          No   \n",
       "735           Yes              No       No           Hip hop         Yes   \n",
       "\n",
       "    Foreign languages  ...  Frequency [R&B]  Frequency [Rap] Frequency [Rock]  \\\n",
       "0                 Yes  ...        Sometimes  Very frequently            Never   \n",
       "1                  No  ...        Sometimes           Rarely  Very frequently   \n",
       "2                 Yes  ...            Never           Rarely           Rarely   \n",
       "3                 Yes  ...        Sometimes            Never            Never   \n",
       "4                  No  ...  Very frequently  Very frequently            Never   \n",
       "..                ...  ...              ...              ...              ...   \n",
       "731               Yes  ...            Never           Rarely  Very frequently   \n",
       "732               Yes  ...            Never            Never        Sometimes   \n",
       "733                No  ...        Sometimes        Sometimes           Rarely   \n",
       "734                No  ...            Never            Never            Never   \n",
       "735               Yes  ...  Very frequently  Very frequently  Very frequently   \n",
       "\n",
       "    Frequency [Video game music] Anxiety Depression Insomnia  OCD  \\\n",
       "0                      Sometimes     3.0        0.0      1.0  0.0   \n",
       "1                         Rarely     7.0        2.0      2.0  1.0   \n",
       "2                Very frequently     7.0        7.0     10.0  2.0   \n",
       "3                          Never     9.0        7.0      3.0  3.0   \n",
       "4                         Rarely     7.0        2.0      5.0  9.0   \n",
       "..                           ...     ...        ...      ...  ...   \n",
       "731                        Never     7.0        6.0      0.0  9.0   \n",
       "732                    Sometimes     3.0        2.0      2.0  5.0   \n",
       "733                       Rarely     2.0        2.0      2.0  2.0   \n",
       "734                    Sometimes     2.0        3.0      2.0  1.0   \n",
       "735                       Rarely     2.0        2.0      2.0  5.0   \n",
       "\n",
       "    Music effects    Permissions  \n",
       "0             NaN  I understand.  \n",
       "1             NaN  I understand.  \n",
       "2       No effect  I understand.  \n",
       "3         Improve  I understand.  \n",
       "4         Improve  I understand.  \n",
       "..            ...            ...  \n",
       "731       Improve  I understand.  \n",
       "732       Improve  I understand.  \n",
       "733       Improve  I understand.  \n",
       "734       Improve  I understand.  \n",
       "735       Improve  I understand.  \n",
       "\n",
       "[736 rows x 33 columns]"
      ]
     },
     "execution_count": 2,
     "metadata": {},
     "output_type": "execute_result"
    }
   ],
   "source": [
    "df = pd.read_csv(\"mxmh_survey_results.csv\")\n",
    "df"
   ]
  },
  {
   "cell_type": "markdown",
   "id": "f9fc0bbd-5d69-4588-897d-f0eabb99d1ea",
   "metadata": {},
   "source": [
    "### B. size of the dataset"
   ]
  },
  {
   "cell_type": "code",
   "execution_count": 3,
   "id": "f0f2e847-860e-4ab1-820f-ccc0f2109bd8",
   "metadata": {},
   "outputs": [
    {
     "data": {
      "text/plain": [
       "24288"
      ]
     },
     "execution_count": 3,
     "metadata": {},
     "output_type": "execute_result"
    }
   ],
   "source": [
    "df.size"
   ]
  },
  {
   "cell_type": "markdown",
   "id": "6e829f1e-2be9-4d69-b93f-f9d90a703142",
   "metadata": {},
   "source": [
    "### C. Columns Information"
   ]
  },
  {
   "cell_type": "code",
   "execution_count": 4,
   "id": "943da1f8-8c4b-40fa-8f70-50df241e3d74",
   "metadata": {},
   "outputs": [
    {
     "name": "stdout",
     "output_type": "stream",
     "text": [
      "<class 'pandas.core.frame.DataFrame'>\n",
      "RangeIndex: 736 entries, 0 to 735\n",
      "Data columns (total 33 columns):\n",
      " #   Column                        Non-Null Count  Dtype  \n",
      "---  ------                        --------------  -----  \n",
      " 0   Timestamp                     736 non-null    object \n",
      " 1   Age                           735 non-null    float64\n",
      " 2   Primary streaming service     735 non-null    object \n",
      " 3   Hours per day                 736 non-null    float64\n",
      " 4   While working                 733 non-null    object \n",
      " 5   Instrumentalist               732 non-null    object \n",
      " 6   Composer                      735 non-null    object \n",
      " 7   Fav genre                     736 non-null    object \n",
      " 8   Exploratory                   736 non-null    object \n",
      " 9   Foreign languages             732 non-null    object \n",
      " 10  BPM                           629 non-null    float64\n",
      " 11  Frequency [Classical]         736 non-null    object \n",
      " 12  Frequency [Country]           736 non-null    object \n",
      " 13  Frequency [EDM]               736 non-null    object \n",
      " 14  Frequency [Folk]              736 non-null    object \n",
      " 15  Frequency [Gospel]            736 non-null    object \n",
      " 16  Frequency [Hip hop]           736 non-null    object \n",
      " 17  Frequency [Jazz]              736 non-null    object \n",
      " 18  Frequency [K pop]             736 non-null    object \n",
      " 19  Frequency [Latin]             736 non-null    object \n",
      " 20  Frequency [Lofi]              736 non-null    object \n",
      " 21  Frequency [Metal]             736 non-null    object \n",
      " 22  Frequency [Pop]               736 non-null    object \n",
      " 23  Frequency [R&B]               736 non-null    object \n",
      " 24  Frequency [Rap]               736 non-null    object \n",
      " 25  Frequency [Rock]              736 non-null    object \n",
      " 26  Frequency [Video game music]  736 non-null    object \n",
      " 27  Anxiety                       736 non-null    float64\n",
      " 28  Depression                    736 non-null    float64\n",
      " 29  Insomnia                      736 non-null    float64\n",
      " 30  OCD                           736 non-null    float64\n",
      " 31  Music effects                 728 non-null    object \n",
      " 32  Permissions                   736 non-null    object \n",
      "dtypes: float64(7), object(26)\n",
      "memory usage: 189.9+ KB\n"
     ]
    }
   ],
   "source": [
    "df.info()"
   ]
  },
  {
   "cell_type": "markdown",
   "id": "48865311-2188-4dd5-afe1-f27aad3574e4",
   "metadata": {},
   "source": [
    "### D. Check for Missing Value"
   ]
  },
  {
   "cell_type": "code",
   "execution_count": 5,
   "id": "a45b9360-1a90-4c33-9572-19b4e7965a29",
   "metadata": {},
   "outputs": [
    {
     "data": {
      "text/plain": [
       "Timestamp                         0\n",
       "Age                               1\n",
       "Primary streaming service         1\n",
       "Hours per day                     0\n",
       "While working                     3\n",
       "Instrumentalist                   4\n",
       "Composer                          1\n",
       "Fav genre                         0\n",
       "Exploratory                       0\n",
       "Foreign languages                 4\n",
       "BPM                             107\n",
       "Frequency [Classical]             0\n",
       "Frequency [Country]               0\n",
       "Frequency [EDM]                   0\n",
       "Frequency [Folk]                  0\n",
       "Frequency [Gospel]                0\n",
       "Frequency [Hip hop]               0\n",
       "Frequency [Jazz]                  0\n",
       "Frequency [K pop]                 0\n",
       "Frequency [Latin]                 0\n",
       "Frequency [Lofi]                  0\n",
       "Frequency [Metal]                 0\n",
       "Frequency [Pop]                   0\n",
       "Frequency [R&B]                   0\n",
       "Frequency [Rap]                   0\n",
       "Frequency [Rock]                  0\n",
       "Frequency [Video game music]      0\n",
       "Anxiety                           0\n",
       "Depression                        0\n",
       "Insomnia                          0\n",
       "OCD                               0\n",
       "Music effects                     8\n",
       "Permissions                       0\n",
       "dtype: int64"
      ]
     },
     "execution_count": 5,
     "metadata": {},
     "output_type": "execute_result"
    }
   ],
   "source": [
    "df.isnull().sum()"
   ]
  },
  {
   "cell_type": "markdown",
   "id": "a53ece48-5a19-4288-8dea-24407facfa13",
   "metadata": {},
   "source": [
    "## Q2. Identify patterns such as age wise user data, streaming service usage category wise and how many hours per day of the users."
   ]
  },
  {
   "cell_type": "markdown",
   "id": "2daf0b53-5538-4450-bae8-bda0224f99fb",
   "metadata": {},
   "source": [
    "### A. Age-wise User Data"
   ]
  },
  {
   "cell_type": "code",
   "execution_count": 6,
   "id": "7708914f-30bb-4e82-83d0-a4ca5dd0a2b3",
   "metadata": {},
   "outputs": [
    {
     "name": "stdout",
     "output_type": "stream",
     "text": [
      "Age-wise User Distribution:\n",
      "\n",
      "Age\n",
      "10–20    338\n",
      "21–30    247\n",
      "31–40     76\n",
      "41–50     26\n",
      "51–60     26\n",
      "61–70     15\n",
      "dtype: int64\n"
     ]
    }
   ],
   "source": [
    "age_groups = pd.cut(\n",
    "    df['Age'],\n",
    "    bins=[10, 20, 30, 40, 50, 60, 70],\n",
    "    labels=['10–20', '21–30', '31–40', '41–50', '51–60', '61–70']\n",
    ")\n",
    "\n",
    "age_wise_counts = df.groupby(age_groups, observed=False).size()\n",
    "\n",
    "print(\"Age-wise User Distribution:\\n\")\n",
    "print(age_wise_counts)"
   ]
  },
  {
   "cell_type": "markdown",
   "id": "d03ab841-622e-45d0-a2bf-d52f177e2f52",
   "metadata": {},
   "source": [
    "### B. streaming service usage category"
   ]
  },
  {
   "cell_type": "code",
   "execution_count": 7,
   "id": "f257150e-9734-4c30-9ba3-1e684298f314",
   "metadata": {},
   "outputs": [
    {
     "name": "stdout",
     "output_type": "stream",
     "text": [
      "Streaming Service Usage (Category-wise): \n",
      "\n",
      "Primary streaming service\n",
      "Spotify                              458\n",
      "YouTube Music                         94\n",
      "I do not use a streaming service.     71\n",
      "Apple Music                           51\n",
      "Other streaming service               50\n",
      "Pandora                               11\n",
      "Name: count, dtype: int64\n"
     ]
    }
   ],
   "source": [
    "service_usage = df['Primary streaming service'].value_counts()\n",
    "print(\"Streaming Service Usage (Category-wise): \\n\")\n",
    "print(service_usage)"
   ]
  },
  {
   "cell_type": "markdown",
   "id": "fc99352d-9ab3-402f-b237-a7d17dcc47ee",
   "metadata": {},
   "source": [
    "### C. how many hours per day of the users"
   ]
  },
  {
   "cell_type": "code",
   "execution_count": 8,
   "id": "09b39757-c860-46ce-854e-f820a6f5c186",
   "metadata": {},
   "outputs": [
    {
     "name": "stdout",
     "output_type": "stream",
     "text": [
      "Average Listening Hours per Day (Overall)\n",
      "\n",
      "3.57\n",
      "\n",
      "Average Listening Hours per Streaming Service \n",
      "\n",
      "Primary streaming service\n",
      "Spotify                              3.837336\n",
      "Apple Music                          3.558824\n",
      "YouTube Music                        3.220745\n",
      "Other streaming service              2.991000\n",
      "I do not use a streaming service.    2.954225\n",
      "Pandora                              2.136364\n",
      "Name: Hours per day, dtype: float64\n"
     ]
    }
   ],
   "source": [
    "avg_hours = df['Hours per day'].mean()\n",
    "print(\"Average Listening Hours per Day (Overall)\\n\")\n",
    "print(round(avg_hours, 2))\n",
    "\n",
    "service_avg_hours = df.groupby('Primary streaming service')['Hours per day'].mean().sort_values(ascending=False)\n",
    "print(\"\\nAverage Listening Hours per Streaming Service \\n\")\n",
    "print(service_avg_hours)"
   ]
  },
  {
   "cell_type": "markdown",
   "id": "2b023454-ab37-419e-95b2-0f7a960f94ce",
   "metadata": {},
   "source": [
    "## Q3. Perform co-relation analysis for the given columns and generate co-relation matrix for the same. Identify co-relation patterns of credit card spends."
   ]
  },
  {
   "cell_type": "markdown",
   "id": "03419409-b931-4791-af25-df784d5bef60",
   "metadata": {},
   "source": [
    "### A. Correlation Matrix"
   ]
  },
  {
   "cell_type": "code",
   "execution_count": 9,
   "id": "c09c3447-974f-4d3e-85d6-4b2411cce54b",
   "metadata": {},
   "outputs": [
    {
     "name": "stdout",
     "output_type": "stream",
     "text": [
      "                Age  Hours per day   BPM  Anxiety  Depression  Insomnia   OCD\n",
      "Age            1.00          -0.04 -0.03    -0.18       -0.12      0.01 -0.13\n",
      "Hours per day -0.04           1.00  0.04     0.05        0.11      0.14  0.12\n",
      "BPM           -0.03           0.04  1.00    -0.03        0.04      0.05  0.02\n",
      "Anxiety       -0.18           0.05 -0.03     1.00        0.52      0.29  0.35\n",
      "Depression    -0.12           0.11  0.04     0.52        1.00      0.38  0.20\n",
      "Insomnia       0.01           0.14  0.05     0.29        0.38      1.00  0.23\n",
      "OCD           -0.13           0.12  0.02     0.35        0.20      0.23  1.00\n"
     ]
    }
   ],
   "source": [
    "numeric_df = df.select_dtypes(include=['number'])\n",
    "corr_matrix = numeric_df.corr()\n",
    "print(corr_matrix.round(2))"
   ]
  },
  {
   "cell_type": "markdown",
   "id": "02ecd1a6-f95d-43f3-a6a4-eff1624ab0e1",
   "metadata": {},
   "source": [
    "### B. Correlation with Credit Card Spends"
   ]
  },
  {
   "cell_type": "code",
   "execution_count": 10,
   "id": "7a8de416-bdca-49a1-aa6e-6189819b345f",
   "metadata": {},
   "outputs": [],
   "source": [
    "if 'Credit Card Spends' in numeric_df.columns:\n",
    "    credit_corr = corr_matrix['Credit Card Spends'].sort_values(ascending=False)\n",
    "    print(credit_corr.round(2))"
   ]
  },
  {
   "cell_type": "markdown",
   "id": "485ccc02-eef3-4712-a4c1-b5cb8ae904a7",
   "metadata": {},
   "source": [
    "## Q4. Identify genre wise analysis and percentage of users having effects of imporvement due to listening music.  Identify type of diseases which and its relation with music."
   ]
  },
  {
   "cell_type": "markdown",
   "id": "67dee9d7-bb91-4063-9cbb-a1de47bdf810",
   "metadata": {},
   "source": [
    "### A. Genre-wise User Count"
   ]
  },
  {
   "cell_type": "code",
   "execution_count": 11,
   "id": "238fe505-facd-4bff-985f-5e9a8dc51b40",
   "metadata": {},
   "outputs": [
    {
     "name": "stdout",
     "output_type": "stream",
     "text": [
      "Genre-wise User Count \n",
      "\n",
      "Fav genre\n",
      "Rock                188\n",
      "Pop                 114\n",
      "Metal                88\n",
      "Classical            53\n",
      "Video game music     44\n",
      "EDM                  37\n",
      "Hip hop              35\n",
      "R&B                  35\n",
      "Folk                 30\n",
      "K pop                26\n",
      "Country              25\n",
      "Rap                  22\n",
      "Jazz                 20\n",
      "Lofi                 10\n",
      "Gospel                6\n",
      "Latin                 3\n",
      "Name: count, dtype: int64\n"
     ]
    }
   ],
   "source": [
    "genre_count = df['Fav genre'].value_counts()\n",
    "print(\"Genre-wise User Count \\n\")\n",
    "print(genre_count)"
   ]
  },
  {
   "cell_type": "markdown",
   "id": "d4f7034d-1c15-4578-b77d-f2a57469112d",
   "metadata": {},
   "source": [
    "### B. Percentage of Users Experiencing Improvement Due to Music"
   ]
  },
  {
   "cell_type": "code",
   "execution_count": 12,
   "id": "bbdd4429-d7a9-440b-8f8e-fd5517c1a318",
   "metadata": {},
   "outputs": [
    {
     "name": "stdout",
     "output_type": "stream",
     "text": [
      "=== Percentage of Users Experiencing Improvement ===\n",
      "\n",
      "73.64 %\n"
     ]
    }
   ],
   "source": [
    "improve_count = df[df['Music effects'] == 'Improve'].shape[0]\n",
    "total_users = df.shape[0]\n",
    "percentage_improve = (improve_count / total_users) * 100\n",
    "print(\"=== Percentage of Users Experiencing Improvement ===\\n\")\n",
    "print(round(percentage_improve, 2), \"%\")"
   ]
  },
  {
   "cell_type": "markdown",
   "id": "eb1e79e2-83c8-4dfa-9ab9-9e91274ddf40",
   "metadata": {},
   "source": [
    "### C. Disease-wise Analysis and Relation with Music"
   ]
  },
  {
   "cell_type": "code",
   "execution_count": 13,
   "id": "6e5ec9de-555c-49ac-a546-8bf1c04ca5b0",
   "metadata": {},
   "outputs": [
    {
     "name": "stdout",
     "output_type": "stream",
     "text": [
      "=== Disease-wise Relation with Music Effects ===\n",
      "\n",
      "               Anxiety  Depression  Insomnia   OCD\n",
      "Music effects                                     \n",
      "Improve           6.05        4.86      3.76  2.72\n",
      "No effect         5.12        4.38      3.67  2.36\n",
      "Worsen            6.76        7.18      4.53  3.12\n"
     ]
    }
   ],
   "source": [
    "diseases = ['Anxiety', 'Depression', 'Insomnia', 'OCD']\n",
    "disease_music_relation = df.groupby('Music effects')[diseases].mean()\n",
    "print(\"=== Disease-wise Relation with Music Effects ===\\n\")\n",
    "print(disease_music_relation.round(2))"
   ]
  },
  {
   "cell_type": "markdown",
   "id": "c552b387-d6a0-4aac-8d80-8278b7e8d3f9",
   "metadata": {},
   "source": [
    "## Q5. Implement appropriate graphs for each operations."
   ]
  },
  {
   "cell_type": "markdown",
   "id": "0cccc46a-b6bf-49c6-94da-9c15df563343",
   "metadata": {},
   "source": [
    "### A. Genre-wise User Count (Bar Chart)"
   ]
  },
  {
   "cell_type": "code",
   "execution_count": 14,
   "id": "5e0a5d9c-442b-4d02-8d64-64e74996c805",
   "metadata": {},
   "outputs": [
    {
     "data": {
      "image/png": "[encoded data removed]",
      "text/plain": [
       "<Figure size 1000x600 with 1 Axes>"
      ]
     },
     "metadata": {},
     "output_type": "display_data"
    }
   ],
   "source": [
    "genre_count = df['Fav genre'].value_counts()\n",
    "plt.figure(figsize=(10,6))\n",
    "genre_count.plot(kind='bar', color='skyblue')\n",
    "plt.title(\"Genre-wise User Count\")\n",
    "plt.xlabel(\"Genre\")\n",
    "plt.ylabel(\"Number of Users\")\n",
    "plt.xticks(rotation=45)\n",
    "plt.show()"
   ]
  },
  {
   "cell_type": "markdown",
   "id": "937c347c-0181-43dd-819c-2c039ca8250f",
   "metadata": {},
   "source": [
    "### B. Percentage of Users Experiencing Improvement (Pie Chart)"
   ]
  },
  {
   "cell_type": "code",
   "execution_count": 15,
   "id": "1108385f-55a0-49fd-b25e-a696df253cbe",
   "metadata": {},
   "outputs": [
    {
     "data": {
      "image/png": "[encoded data removed]",
      "text/plain": [
       "<Figure size 600x600 with 1 Axes>"
      ]
     },
     "metadata": {},
     "output_type": "display_data"
    }
   ],
   "source": [
    "improve_count = df[df['Music effects'] == 'Improve'].shape[0]\n",
    "no_improve_count = df.shape[0] - improve_count\n",
    "\n",
    "plt.figure(figsize=(6,6))\n",
    "plt.pie([improve_count, no_improve_count], labels=['Improve','No effect'], autopct='%1.1f%%', colors=['lightgreen','lightcoral'])\n",
    "plt.title(\"Percentage of Users Experiencing Improvement Due to Music\")\n",
    "plt.show()"
   ]
  },
  {
   "cell_type": "markdown",
   "id": "13d5128d-8aa7-4686-8188-4580878e3c5d",
   "metadata": {},
   "source": [
    "### C. Disease-wise Relation with Music (Heatmap)"
   ]
  },
  {
   "cell_type": "code",
   "execution_count": 16,
   "id": "9e5e77cc-dde5-46bd-b06e-24d84427f030",
   "metadata": {},
   "outputs": [
    {
     "data": {
      "image/png": "[encoded data removed]",
      "text/plain": [
       "<Figure size 800x500 with 2 Axes>"
      ]
     },
     "metadata": {},
     "output_type": "display_data"
    }
   ],
   "source": [
    "diseases = ['Anxiety', 'Depression', 'Insomnia', 'OCD']\n",
    "disease_music_relation = df.groupby('Music effects')[diseases].mean()\n",
    "\n",
    "plt.figure(figsize=(8,5))\n",
    "sns.heatmap(disease_music_relation, annot=True, cmap='YlGnBu', fmt='.2f')\n",
    "plt.title(\"Disease-wise Average Score by Music Effects\")\n",
    "plt.show()"
   ]
  }
 ],
 "metadata": {
  "kernelspec": {
   "display_name": "Python 3 (ipykernel)",
   "language": "python",
   "name": "python3"
  },
  "language_info": {
   "codemirror_mode": {
    "name": "ipython",
    "version": 3
   },
   "file_extension": ".py",
   "mimetype": "text/x-python",
   "name": "python",
   "nbconvert_exporter": "python",
   "pygments_lexer": "ipython3",
   "version": "3.13.3"
  }
 },
 "nbformat": 4,
 "nbformat_minor": 5
}
