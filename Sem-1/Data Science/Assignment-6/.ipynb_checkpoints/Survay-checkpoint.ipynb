{
 "cells": [
  {
   "cell_type": "markdown",
   "id": "a9699d28-bd65-47ee-a0f9-cb86674a2470",
   "metadata": {},
   "source": [
    "# Survay Analysis"
   ]
  },
  {
   "cell_type": "markdown",
   "id": "beb74780-bc18-4f33-a1a6-304aec29f2c8",
   "metadata": {},
   "source": [
    "## Q1. Import csv file and perform exploratory data analysis by identifying size of the datasets, column information and null values.."
   ]
  },
  {
   "cell_type": "code",
   "execution_count": 2,
   "id": "5d25cff2-ff16-4204-9ec0-5c0333d21b8d",
   "metadata": {},
   "outputs": [],
   "source": [
    "import numpy as np\n",
    "import pandas as pd\n",
    "import matplotlib.pyplot as plt\n",
    "import seaborn as sns"
   ]
  },
  {
   "cell_type": "code",
   "execution_count": null,
   "id": "45fe72c6-002e-4372-8198-31baa774cd40",
   "metadata": {},
   "outputs": [],
   "source": []
  }
 ],
 "metadata": {
  "kernelspec": {
   "display_name": "Python 3 (ipykernel)",
   "language": "python",
   "name": "python3"
  },
  "language_info": {
   "codemirror_mode": {
    "name": "ipython",
    "version": 3
   },
   "file_extension": ".py",
   "mimetype": "text/x-python",
   "name": "python",
   "nbconvert_exporter": "python",
   "pygments_lexer": "ipython3",
   "version": "3.13.3"
  }
 },
 "nbformat": 4,
 "nbformat_minor": 5
}
