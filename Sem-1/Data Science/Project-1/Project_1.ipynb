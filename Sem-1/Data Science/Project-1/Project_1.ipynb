{
 "cells": [
  {
   "cell_type": "markdown",
   "id": "1a6bb954-3867-4a4f-b700-b023589f4786",
   "metadata": {},
   "source": [
    "# 1. OverView of Dataset"
   ]
  },
  {
   "cell_type": "markdown",
   "id": "670539e4-d2bd-4263-8588-e6103e98e459",
   "metadata": {},
   "source": [
    "## Columns details:"
   ]
  },
  {
   "cell_type": "code",
   "execution_count": null,
   "id": "a9fb6217-3b99-4a5e-b29f-79a7f8001da6",
   "metadata": {},
   "outputs": [],
   "source": [
    "import numpy as np\n",
    "import pandas as pd\n",
    "import matplotlib.pyplot as plt\n",
    "import seaborn as sns"
   ]
  },
  {
   "cell_type": "markdown",
   "id": "27c4a514-9801-49e6-b237-418039e03131",
   "metadata": {},
   "source": [
    "# 2. Data Preprocessing:"
   ]
  },
  {
   "cell_type": "markdown",
   "id": "c37e179b-9386-44fc-9e08-307a5e53b9fe",
   "metadata": {},
   "source": [
    "## A. Read CSV data"
   ]
  },
  {
   "cell_type": "code",
   "execution_count": null,
   "id": "a587ce4c-d7a6-496b-8fd3-41cc6c7dee32",
   "metadata": {},
   "outputs": [],
   "source": [
    "df = pd.read_csv(\"matches.csv\")"
   ]
  },
  {
   "cell_type": "markdown",
   "id": "6b95fcb5-0363-4677-bd22-09ff29ca2ed3",
   "metadata": {},
   "source": [
    "## B. Columns Overview:"
   ]
  },
  {
   "cell_type": "code",
   "execution_count": null,
   "id": "bbb2d802-bbd1-48cc-92ce-fed5de65c06b",
   "metadata": {},
   "outputs": [],
   "source": [
    "df.columns"
   ]
  },
  {
   "cell_type": "markdown",
   "id": "e2eda5a7-fdd4-4ab3-a224-759530505326",
   "metadata": {},
   "source": [
    "## C. Check missing Value"
   ]
  },
  {
   "cell_type": "code",
   "execution_count": null,
   "id": "d53c072e-4e89-4885-87cc-ae5753b35066",
   "metadata": {},
   "outputs": [],
   "source": [
    "df.isnull().sum()"
   ]
  },
  {
   "cell_type": "markdown",
   "id": "63880f58-f895-47a8-8ec6-dc8f07ae25cf",
   "metadata": {},
   "source": [
    "## D. Handle missing Value:"
   ]
  },
  {
   "cell_type": "code",
   "execution_count": null,
   "id": "f751ab12-6524-4442-b858-e2e260ede291",
   "metadata": {},
   "outputs": [],
   "source": [
    "df['umpire2'] = df['umpire2'].fillna('Unknown')\n",
    "df['umpire1'] = df['umpire1'].fillna('Unknown')\n",
    "\n",
    "df['city'] = df['city'].fillna(df['city'].mode()[0])\n",
    "df['winner'] = df['winner'].fillna(df['winner'].mode()[0])\n",
    "\n",
    "df.isnull().sum()"
   ]
  },
  {
   "cell_type": "markdown",
   "id": "8bead579-20cc-4c9f-b518-83a906b488d4",
   "metadata": {},
   "source": [
    "## E. Replace Data to short Form"
   ]
  },
  {
   "cell_type": "code",
   "execution_count": null,
   "id": "f0cda033-a37f-4d15-bf85-cb003d1647bb",
   "metadata": {},
   "outputs": [],
   "source": [
    "replace_map = {\n",
    "    'Sunrisers Hyderabad': 'SRH',\n",
    "    'Mumbai Indians': 'MI',\n",
    "    'Gujarat Lions': 'GT',\n",
    "    'Rising Pune Supergiant': 'RPS',\n",
    "    'Royal Challengers Bangalore': 'RCB',\n",
    "    'Kolkata Knight Riders': 'KKR',\n",
    "    'Delhi Daredevils': 'DD',\n",
    "    'Kings XI Punjab': 'PBKS',\n",
    "    'Chennai Super Kings': 'CSK',\n",
    "    'Rajasthan Royals': 'RR',\n",
    "    'Deccan Chargers': 'DCS',\n",
    "    'Kochi Tuskers Kerala': 'KTK',\n",
    "    'Pune Warriors': 'PW',\n",
    "    'Rising Pune Supergiants': 'RPS',\n",
    "    'Delhi Capitals': 'DC',\n",
    "}\n",
    "df = df.replace(replace_map)\n",
    "df"
   ]
  },
  {
   "cell_type": "code",
   "execution_count": null,
   "id": "53a78341",
   "metadata": {},
   "outputs": [],
   "source": [
    "df.head()"
   ]
  },
  {
   "cell_type": "code",
   "execution_count": null,
   "id": "68e66ac3-3861-4b70-b492-9d565139e446",
   "metadata": {},
   "outputs": [],
   "source": [
    "df.tail()"
   ]
  },
  {
   "cell_type": "markdown",
   "id": "39059213-301b-4558-9a7d-854886649a9c",
   "metadata": {},
   "source": [
    "## F. Data types of all columns"
   ]
  },
  {
   "cell_type": "code",
   "execution_count": null,
   "id": "3a45f9f0-57f5-406e-9412-a36adddabd48",
   "metadata": {},
   "outputs": [],
   "source": [
    "print(df.dtypes)"
   ]
  },
  {
   "cell_type": "markdown",
   "id": "7d5f0a6a-40f8-4c22-93f0-6f700d5cc77e",
   "metadata": {},
   "source": [
    "## G. Data information of all Columns"
   ]
  },
  {
   "cell_type": "code",
   "execution_count": null,
   "id": "5856a2e3-79b6-4e1c-b506-2b4297de5c2b",
   "metadata": {},
   "outputs": [],
   "source": [
    "df.info()"
   ]
  },
  {
   "cell_type": "markdown",
   "id": "321445a7-90f4-46d4-affc-f3af4e0c604b",
   "metadata": {},
   "source": [
    "## H. Check and Handle Duplicates"
   ]
  },
  {
   "cell_type": "code",
   "execution_count": null,
   "id": "b53edb42-f087-4192-83c2-62dc82656d4c",
   "metadata": {},
   "outputs": [],
   "source": [
    "df.duplicated().sum()\n",
    "df = df.drop_duplicates()\n",
    "df"
   ]
  },
  {
   "cell_type": "markdown",
   "id": "e0d3ebc3-70f0-4b22-a040-4d80a33a4ca7",
   "metadata": {},
   "source": [
    "## I. Describe dataset"
   ]
  },
  {
   "cell_type": "code",
   "execution_count": null,
   "id": "6b1bdc0c-02ae-40d7-ad66-36352323718b",
   "metadata": {},
   "outputs": [],
   "source": [
    "df.describe()"
   ]
  },
  {
   "cell_type": "markdown",
   "id": "60d9302e-3109-4cb1-8228-6e1135e01518",
   "metadata": {},
   "source": [
    "## J. shape of Dataset"
   ]
  },
  {
   "cell_type": "code",
   "execution_count": null,
   "id": "97f54a88-3284-43d9-bb6d-853dc12f2902",
   "metadata": {},
   "outputs": [],
   "source": [
    "df.shape"
   ]
  },
  {
   "cell_type": "markdown",
   "id": "12d3486c-8ddd-43de-9f96-4675201f2bba",
   "metadata": {},
   "source": [
    "## K. All Seasion"
   ]
  },
  {
   "cell_type": "code",
   "execution_count": null,
   "id": "45786541",
   "metadata": {},
   "outputs": [],
   "source": [
    "#Finding the number of seasons\n",
    "df['Season'].unique()"
   ]
  },
  {
   "cell_type": "markdown",
   "id": "5e9bbb83-2cde-4560-8abb-dca9546700cb",
   "metadata": {},
   "source": [
    "## L. Finding which IPL team scored the maximum runs"
   ]
  },
  {
   "cell_type": "code",
   "execution_count": null,
   "id": "6f723eb2",
   "metadata": {},
   "outputs": [],
   "source": [
    "df.iloc[df['win_by_runs'].idxmax()]"
   ]
  },
  {
   "cell_type": "markdown",
   "id": "bfff689b-4299-4dc7-8cf5-fd4c5474a892",
   "metadata": {},
   "source": [
    "## M. which team won by scoring maximum wickets"
   ]
  },
  {
   "cell_type": "code",
   "execution_count": null,
   "id": "c07069a7",
   "metadata": {},
   "outputs": [],
   "source": [
    "df.iloc[df['win_by_wickets'].idxmax()]"
   ]
  },
  {
   "cell_type": "markdown",
   "id": "8e6cd9a3-d8cd-4724-ac04-cd367756964a",
   "metadata": {},
   "source": [
    "# 3. EDA (Exploratory Data Analysis):"
   ]
  },
  {
   "cell_type": "markdown",
   "id": "daa6fd79-1362-482f-8836-b1acce8eede2",
   "metadata": {},
   "source": [
    "## Univariant"
   ]
  },
  {
   "cell_type": "markdown",
   "id": "b0f752dc-2fa4-4c39-bbe5-c31578bbd1c0",
   "metadata": {},
   "source": [
    "### Q1.Which season had the most matches?"
   ]
  },
  {
   "cell_type": "code",
   "execution_count": null,
   "id": "2b0659e0-0254-48c6-9a6d-8463f894164f",
   "metadata": {},
   "outputs": [],
   "source": [
    "sns.countplot(x = 'Season', data = df, hue='Season', palette='jet_r')\n",
    "plt.xticks(rotation = 45)\n",
    "plt.xlabel('Seasion in year')\n",
    "plt.ylabel('Total number of Season')\n",
    "plt.savefig(\"1.png\",  bbox_inches=\"tight\", dpi = 300, transparent=True)\n",
    "plt.show()"
   ]
  },
  {
   "cell_type": "markdown",
   "id": "f0f47ba4-1d92-4b50-bfc1-235e29ba5a0f",
   "metadata": {},
   "source": [
    "##### Q2. Which city hosted the most matches?"
   ]
  },
  {
   "cell_type": "code",
   "execution_count": null,
   "id": "41965c77-ccda-47f1-afd4-8c6ac83b131d",
   "metadata": {},
   "outputs": [],
   "source": [
    "sns.countplot(x = 'city', data = df, hue='city', palette='jet_r')\n",
    "plt.xticks(rotation = 90)\n",
    "plt.title('Matches Hosted per City')\n",
    "plt.xlabel('City')\n",
    "plt.ylabel('Total Number of Matches')\n",
    "plt.savefig(\"1.png\",  bbox_inches=\"tight\", dpi = 300, transparent=True)\n",
    "plt.show()"
   ]
  },
  {
   "cell_type": "markdown",
   "id": "31174d07-622b-4119-9aff-fd1d4a73ce77",
   "metadata": {},
   "source": [
    "### Q3. Which team appears most frequently as Team1?"
   ]
  },
  {
   "cell_type": "code",
   "execution_count": null,
   "id": "d21ae93a-f3bc-4c3f-8dc2-075c383f97cc",
   "metadata": {},
   "outputs": [],
   "source": [
    "team1_counts = df['team1'].value_counts()\n",
    "team1_counts.plot(kind='pie', autopct='%1.1f%%', radius=1.5)\n",
    "plt.savefig(\"1.png\",  bbox_inches=\"tight\", dpi = 300, transparent=True)\n",
    "plt.show()"
   ]
  },
  {
   "cell_type": "markdown",
   "id": "56e989b2-e74a-4582-8881-a1184fddb66b",
   "metadata": {},
   "source": [
    "### Q4. Which team appears most frequently as Team2?"
   ]
  },
  {
   "cell_type": "code",
   "execution_count": null,
   "id": "009d5f0e-3edb-40cb-96b3-1a09d682f899",
   "metadata": {},
   "outputs": [],
   "source": [
    "team2_counts = df['team2'].value_counts()\n",
    "team2_counts.plot(kind='bar')\n",
    "plt.xlabel('Team2')\n",
    "plt.ylabel('Number of Matches')\n",
    "plt.title('Frequency of Team2 Appearances')\n",
    "plt.savefig(\"1.png\",  bbox_inches=\"tight\", dpi = 300, transparent=True)\n",
    "plt.show()\n"
   ]
  },
  {
   "cell_type": "markdown",
   "id": "b4743cb6-44b4-4773-ac43-01f53677e2ed",
   "metadata": {},
   "source": [
    "### Q5. Which team won the toss most often?"
   ]
  },
  {
   "cell_type": "code",
   "execution_count": null,
   "id": "36a280cd-38e4-428a-ac9a-d81046746279",
   "metadata": {},
   "outputs": [],
   "source": [
    "sns.countplot(x = 'toss_winner', data = df, hue='toss_winner', palette='jet_r')\n",
    "plt.xticks(rotation = 90)\n",
    "plt.title('Toss Wins by Team')\n",
    "plt.xlabel('Teams')\n",
    "plt.ylabel('Number of Toss Wins')\n",
    "plt.savefig(\"1.png\",  bbox_inches=\"tight\", dpi = 300, transparent=True)\n",
    "plt.show()\n"
   ]
  },
  {
   "cell_type": "markdown",
   "id": "26396f57-3808-4266-8a55-a328cb15080b",
   "metadata": {},
   "source": [
    "### Q6. Which toss decision was chosen most often (bat/field)"
   ]
  },
  {
   "cell_type": "code",
   "execution_count": null,
   "id": "de754cc8-6adb-4580-8ad2-aedb5d7226af",
   "metadata": {},
   "outputs": [],
   "source": [
    "sns.countplot(x = 'toss_decision', data = df, hue='toss_decision', palette='jet_r')\n",
    "plt.title('Toss Decision Counts')\n",
    "plt.xlabel('Toss Decision')\n",
    "plt.ylabel('Frequency')\n",
    "plt.savefig(\"1.png\",  bbox_inches=\"tight\", dpi = 300, transparent=True)\n",
    "plt.show()"
   ]
  },
  {
   "cell_type": "markdown",
   "id": "aff32486-7655-492e-bfd8-c5360d27aa2c",
   "metadata": {},
   "source": [
    "### Q7. Which result type occurred most frequently (normal/tie/no result)"
   ]
  },
  {
   "cell_type": "code",
   "execution_count": null,
   "id": "2ee31154-761d-436a-a229-70cd1832088b",
   "metadata": {},
   "outputs": [],
   "source": [
    "result_counts = df['result'].value_counts()\n",
    "result_counts.plot(kind='bar')\n",
    "plt.xlabel('Result Type')\n",
    "plt.ylabel('Frequency')\n",
    "plt.title('Match Result Counts')\n",
    "plt.savefig(\"1.png\",  bbox_inches=\"tight\", dpi = 300, transparent=True)\n",
    "plt.show()\n"
   ]
  },
  {
   "cell_type": "markdown",
   "id": "2db72d70-daad-4b64-ab06-4570a84a4683",
   "metadata": {},
   "source": [
    "### Q8. Which team won most matches?"
   ]
  },
  {
   "cell_type": "code",
   "execution_count": null,
   "id": "320f994d-8e71-45d4-8e25-05aaca61430a",
   "metadata": {},
   "outputs": [],
   "source": [
    "sns.countplot(x = 'winner', data = df, hue='winner', palette='jet_r')\n",
    "plt.xticks(rotation = 90)\n",
    "plt.title('Matches Won by Team')\n",
    "plt.xlabel('Teams')\n",
    "plt.ylabel('Number of Wins')\n",
    "plt.savefig(\"1.png\",  bbox_inches=\"tight\", dpi = 300, transparent=True)\n",
    "plt.show()\n"
   ]
  },
  {
   "cell_type": "markdown",
   "id": "dcdfdcb5-180a-4a7b-88d6-4eb1eec38783",
   "metadata": {},
   "source": [
    "### Q9. Which stadium hosted the most matches?"
   ]
  },
  {
   "cell_type": "code",
   "execution_count": null,
   "id": "419c82b8-e288-4f0d-a218-c666c58473b9",
   "metadata": {},
   "outputs": [],
   "source": [
    "venue_counts = df['venue'].value_counts()\n",
    "venue_counts.plot(kind='bar', fontsize=8)\n",
    "plt.xlabel('Venue')\n",
    "plt.ylabel('Number of Matches')\n",
    "plt.title('Matches Hosted per Venue')\n",
    "plt.savefig(\"1.png\",  bbox_inches=\"tight\", dpi = 300, transparent=True)\n",
    "plt.show()\n"
   ]
  },
  {
   "cell_type": "markdown",
   "id": "67384110-a9af-47cc-a727-75075502eeab",
   "metadata": {},
   "source": [
    "### Q10. Distribution of win margins by runs"
   ]
  },
  {
   "cell_type": "code",
   "execution_count": null,
   "id": "a1d6b868-7648-420e-978f-b4cda6a5db74",
   "metadata": {},
   "outputs": [],
   "source": [
    "df['win_by_runs'].plot(kind='hist')\n",
    "plt.xlabel('Win by Runs')\n",
    "plt.ylabel('Frequency')\n",
    "plt.title('Distribution of Win Margins by Runs')\n",
    "plt.savefig(\"1.png\",  bbox_inches=\"tight\", dpi = 300, transparent=True)\n",
    "plt.show()"
   ]
  },
  {
   "cell_type": "markdown",
   "id": "940b53e0-0e22-4190-bbe7-b85bf63db6e1",
   "metadata": {},
   "source": [
    "### Q11. Distribution of win margins by Wickets"
   ]
  },
  {
   "cell_type": "code",
   "execution_count": null,
   "id": "42d20c63-384a-4116-831d-4aa0a00eb5f4",
   "metadata": {},
   "outputs": [],
   "source": [
    "df['win_by_wickets'].plot(kind='hist')\n",
    "plt.xlabel('Win by Wickets')\n",
    "plt.ylabel('Frequency')\n",
    "plt.title('Distribution of Win Margins by Runs')\n",
    "plt.savefig(\"1.png\",  bbox_inches=\"tight\", dpi = 300, transparent=True)\n",
    "plt.show()\n"
   ]
  },
  {
   "cell_type": "markdown",
   "id": "bbc61145-76a5-4321-9d6e-e3df1f15da02",
   "metadata": {},
   "source": [
    "### Q12. Top 10 Most frequently used umpire1. "
   ]
  },
  {
   "cell_type": "code",
   "execution_count": null,
   "id": "4d71051b-fb95-4abb-b12a-5188d84344be",
   "metadata": {},
   "outputs": [],
   "source": [
    "z = df['umpire1'].value_counts().head(10)\n",
    "plt.pie(z, labels = z.index, autopct='%1.1f%%')\n",
    "\n",
    "plt.title('Proportion of Umpire1 Selection')\n",
    "plt.savefig(\"1.png\", bbox_inches=\"tight\", dpi = 300, transparent=True)\n",
    "plt.show()\n"
   ]
  },
  {
   "cell_type": "markdown",
   "id": "cacd48b9-024b-4045-89bc-ba45d91022df",
   "metadata": {},
   "source": [
    "### Q13. Top 10 Most frequently used umpire2. "
   ]
  },
  {
   "cell_type": "code",
   "execution_count": null,
   "id": "1734056d-5734-47df-acc2-720316cd232d",
   "metadata": {},
   "outputs": [],
   "source": [
    "x = df['umpire2'].value_counts().head(10)\n",
    "plt.pie(x, labels = x.index, autopct='%1.1f%%', radius=1.2)\n",
    "\n",
    "plt.savefig(\"1.png\", bbox_inches=\"tight\", dpi = 300, transparent=True)\n",
    "plt.show()"
   ]
  },
  {
   "cell_type": "markdown",
   "id": "5212c23f-b04e-444c-bf1f-3cba2a3c5549",
   "metadata": {},
   "source": [
    "# Bivariate "
   ]
  },
  {
   "cell_type": "markdown",
   "id": "d1d5440c-cc40-45be-947a-1ca2f3cce9c0",
   "metadata": {},
   "source": [
    "## Q1. Are thrillers becoming more common?"
   ]
  },
  {
   "cell_type": "code",
   "execution_count": null,
   "id": "8ca5067d-3359-4e07-b710-f6ca3080b418",
   "metadata": {},
   "outputs": [],
   "source": [
    "thrillers = df[\n",
    "    (\n",
    "        ((df['win_by_runs'] > 0) & (df['win_by_runs'] <= 10)) |\n",
    "        ((df['win_by_wickets'] > 0) & (df['win_by_wickets'] <= 2))\n",
    "    )\n",
    "]\n",
    "\n",
    "thrillers_per_season = thrillers['Season'].value_counts().sort_index()\n",
    "\n",
    "matches_per_season = df['Season'].value_counts().sort_index()\n",
    "\n",
    "thriller_ratio = (thrillers_per_season / matches_per_season * 100).fillna(0)\n",
    "\n",
    "plt.figure(figsize=(10,6))\n",
    "plt.plot(thrillers_per_season.index, thrillers_per_season.values, marker='o', label=\"Thriller Matches\")\n",
    "plt.plot(thriller_ratio.index, thriller_ratio.values, marker='s', linestyle=\"--\", label=\"Thriller % of Season\")\n",
    "\n",
    "plt.title(\"Are Thrillers Becoming More Common in IPL?\")\n",
    "plt.xlabel(\"Season\")\n",
    "plt.ylabel(\"Number of Matches / % of Season\")\n",
    "plt.legend()\n",
    "plt.grid(True)\n",
    "plt.savefig(\"1.png\",  bbox_inches=\"tight\", dpi = 300, transparent=True)\n",
    "plt.show()\n"
   ]
  },
  {
   "cell_type": "markdown",
   "id": "8b54211d-18b9-4363-81f8-d9210da40b58",
   "metadata": {},
   "source": [
    "## Q2. Does batting/fielding first matter?"
   ]
  },
  {
   "cell_type": "code",
   "execution_count": null,
   "id": "c7577ef7-dfe5-4915-9db3-01dcaa5e1460",
   "metadata": {},
   "outputs": [],
   "source": [
    "df['toss_match_result'] = df.apply(\n",
    "    lambda row: \"Won Match\" if row['toss_winner'] == row['winner'] else \"Lost Match\",\n",
    "    axis=1\n",
    ")\n",
    "\n",
    "cross_tab = pd.crosstab(df['toss_decision'], df['toss_match_result'])\n",
    "\n",
    "cross_tab.plot(kind=\"bar\", stacked=True, figsize=(8,6), color=[\"salmon\",\"skyblue\"])\n",
    "\n",
    "plt.title(\"Does Batting/Fielding First Matter?\")\n",
    "plt.xlabel(\"Toss Decision\")\n",
    "plt.ylabel(\"Number of Matches\")\n",
    "plt.legend(title=\"Match Result\")\n",
    "plt.xticks(rotation=0)\n",
    "\n",
    "plt.savefig(\"1.png\",  bbox_inches=\"tight\", dpi = 300, transparent=True)\n",
    "plt.show()\n"
   ]
  },
  {
   "cell_type": "markdown",
   "id": "cd62563a-eaf4-46fa-b32a-3844a0156749",
   "metadata": {},
   "source": [
    "## Q3. Are matches ending in \"No Result\" increasing?"
   ]
  },
  {
   "cell_type": "code",
   "execution_count": null,
   "id": "b7843396-c83a-4fda-8306-18b5d66490fe",
   "metadata": {},
   "outputs": [],
   "source": [
    "no_result_per_season = df[df['result'] == 'no result']['Season'].value_counts().sort_index()\n",
    "\n",
    "plt.figure(figsize=(10,6))\n",
    "no_result_per_season.plot(kind='bar', color='red')\n",
    "\n",
    "plt.title(\"No Result Matches per Season\")\n",
    "plt.xlabel(\"Season\")\n",
    "plt.ylabel(\"Number of No Results\")\n",
    "plt.savefig(\"1.png\",  bbox_inches=\"tight\", dpi = 300, transparent=True)\n",
    "plt.show()"
   ]
  },
  {
   "cell_type": "markdown",
   "id": "fa3b64f4-ed47-475e-8b55-3d1eb48b5cbc",
   "metadata": {},
   "source": [
    "## Q4. How often do matches go into Super Overs (Ties)?"
   ]
  },
  {
   "cell_type": "code",
   "execution_count": null,
   "id": "f2102d61-e445-4f1e-a59a-ebdd219c1ca5",
   "metadata": {},
   "outputs": [],
   "source": [
    "super_over_per_season = df[df['result'] == 'tie']['Season'].value_counts().sort_index()\n",
    "\n",
    "plt.figure(figsize=(10,6))\n",
    "super_over_per_season.plot(kind='line', marker='o', color=\"purple\")\n",
    "plt.title(\"Super Over (Tied) Matches per Season\")\n",
    "plt.xlabel(\"Season\")\n",
    "plt.ylabel(\"Number of Super Overs\")\n",
    "plt.savefig(\"1.png\",  bbox_inches=\"tight\", dpi = 300, transparent=True)\n",
    "plt.show()"
   ]
  },
  {
   "cell_type": "markdown",
   "id": "ceda523b-8412-4a9b-8097-f879c9d29017",
   "metadata": {},
   "source": [
    "## Q5. Which teams dominate at home vs away venues?"
   ]
  },
  {
   "cell_type": "code",
   "execution_count": null,
   "id": "c997fc45-67b1-483b-90d6-749250909cb1",
   "metadata": {},
   "outputs": [],
   "source": [
    "home_wins = df[df['winner'] == df['team1']]['winner'].value_counts()\n",
    "away_wins = df[df['winner'] == df['team2']]['winner'].value_counts()\n",
    "\n",
    "pd.DataFrame({\"Home Wins\": home_wins, \"Away Wins\": away_wins}).plot(\n",
    "    kind='bar', figsize=(12,6), color=[\"green\", \"orange\"]\n",
    ")\n",
    "\n",
    "plt.title(\"Home vs Away Wins per Team\")\n",
    "plt.ylabel(\"Matches Won\")\n",
    "plt.savefig(\"1.png\",  bbox_inches=\"tight\", dpi = 300, transparent=True)\n",
    "plt.show()\n"
   ]
  },
  {
   "cell_type": "markdown",
   "id": "938047d3-ebdd-4b6e-963a-c9bae0c93e6b",
   "metadata": {},
   "source": [
    "## Q.6 Who wins Player of the Match in finals most often?"
   ]
  },
  {
   "cell_type": "code",
   "execution_count": null,
   "id": "bcc7aacc-a920-49e4-8c25-b5f0cbaebd68",
   "metadata": {},
   "outputs": [],
   "source": [
    "finals = df[df['match_type'] == 'Final'] if 'match_type' in df.columns else df[df['Season'] == df['Season'].max()]\n",
    "\n",
    "final_awards = finals['player_of_match'].value_counts()\n",
    "\n",
    "plt.figure(figsize=(8,5))\n",
    "final_awards.plot(kind='bar', color=\"gold\")\n",
    "plt.title(\"Player of the Match Awards in Finals\")\n",
    "plt.ylabel(\"Count\")\n",
    "plt.savefig(\"1.png\",  bbox_inches=\"tight\", dpi = 300, transparent=True)\n",
    "plt.show()"
   ]
  },
  {
   "cell_type": "markdown",
   "id": "b3aa4bc5-45cf-480d-9d35-aeb4b7049843",
   "metadata": {},
   "source": [
    "## Q7. Impact of Toss on Match Result"
   ]
  },
  {
   "cell_type": "code",
   "execution_count": null,
   "id": "f9b2a260-5a76-426d-aba3-a3f073d314aa",
   "metadata": {},
   "outputs": [],
   "source": [
    "df['same'] = df['toss_winner'] == df['winner']\n",
    "df['toss_match_result'] = df['same'].map({True: 'Toss Winner Also Won', False: 'Toss Winner Lost'})\n",
    "\n",
    "sns.countplot(x='toss_match_result', data=df, hue='toss_match_result')\n",
    "plt.title(\"Did Toss Winner Also Win the Match?\")\n",
    "plt.xlabel(\"Result\")\n",
    "plt.ylabel(\"Number of Matches\")\n",
    "plt.savefig(\"1.png\", bbox_inches=\"tight\", dpi = 300, transparent=True)\n",
    "plt.show()"
   ]
  },
  {
   "cell_type": "markdown",
   "id": "23f2bd97-94a2-4525-8c1f-0cce03e62c60",
   "metadata": {},
   "source": [
    "## Q8. Are some teams more successful under specific umpires?"
   ]
  },
  {
   "cell_type": "code",
   "execution_count": null,
   "id": "02956025-9fdd-4de2-a565-456144bada8a",
   "metadata": {},
   "outputs": [],
   "source": [
    "umpire_winner = df.groupby(['umpire1', 'winner']).size().reset_index(name='wins')\n",
    "umpire_winner_sorted = umpire_winner.sort_values(by='wins', ascending=False).head(7)\n",
    "\n",
    "plt.figure(figsize=(10,6))\n",
    "sns.barplot(y='umpire1', x='wins', hue='winner', data=umpire_winner_sorted, dodge=False)\n",
    "plt.title(\"Top 7 Umpire-Team Winning Combinations\")\n",
    "plt.xlabel(\"Number of Wins\")\n",
    "plt.ylabel(\"Umpire\")\n",
    "plt.savefig(\"1.png\", bbox_inches=\"tight\", dpi = 300, transparent=True)\n",
    "plt.show()"
   ]
  },
  {
   "cell_type": "markdown",
   "id": "2c4e4c2c-0e1e-4042-bc3b-d39729fc8aa3",
   "metadata": {},
   "source": [
    "# Multivariate"
   ]
  },
  {
   "cell_type": "markdown",
   "id": "11e92535-0630-4daf-b62b-b618bd35a084",
   "metadata": {},
   "source": [
    "## Q1. Across seasons, which teams win more by batting first (runs) vs chasing (wickets)?"
   ]
  },
  {
   "cell_type": "code",
   "execution_count": null,
   "id": "22afb6b1-1209-4785-9e71-be6d819f2958",
   "metadata": {},
   "outputs": [],
   "source": [
    "df['win_type'] = df.apply(lambda x: \"By Runs\" if x['win_by_runs'] > 0 else \"By Wickets\", axis=1)\n",
    "\n",
    "# Group by Season + Winner + Win Type\n",
    "season_team_wins = df.groupby(['Season', 'winner', 'win_type']).size().reset_index(name='count')\n",
    "\n",
    "plt.figure(figsize=(14,7))\n",
    "sns.scatterplot(\n",
    "    data=season_team_wins,\n",
    "    x=\"Season\", y=\"count\", hue=\"win_type\", style=\"winner\", s=150\n",
    ")\n",
    "\n",
    "plt.title(\"Season + Winning Team + Win Type\", fontsize=14)\n",
    "plt.xlabel(\"Season\")\n",
    "plt.ylabel(\"Wins Count\")\n",
    "plt.legend(bbox_to_anchor=(1.05, 1), loc='upper left')\n",
    "plt.savefig(\"1.png\",  bbox_inches=\"tight\", dpi = 300, transparent=True)\n",
    "plt.show()"
   ]
  },
  {
   "cell_type": "markdown",
   "id": "dbf7bd43-7a5d-464e-8288-1921252ed863",
   "metadata": {},
   "source": [
    "# Outliers"
   ]
  },
  {
   "cell_type": "code",
   "execution_count": null,
   "id": "28886678-edfa-4f4d-acbe-20f5a3e428f7",
   "metadata": {},
   "outputs": [],
   "source": [
    "plt.figure(figsize=(6, 5))\n",
    "sns.boxplot(y = df['win_by_wickets'])\n",
    "plt.show()"
   ]
  },
  {
   "cell_type": "code",
   "execution_count": null,
   "id": "a0df6dd6-3c21-4df8-b27e-e41f593320a4",
   "metadata": {},
   "outputs": [],
   "source": [
    "Q1 = df['win_by_wickets'].quantile(0.25)\n",
    "Q3 = df['win_by_wickets'].quantile(0.75)\n",
    "IQR = Q3 - Q1\n",
    "\n",
    "lower = Q1 - 1.5 * IQR\n",
    "upper = Q3 + 1.5 * IQR\n",
    "\n",
    "mean_val = df[(df['win_by_wickets'] >= lower) & (df['win_by_wickets'] <= upper)]['win_by_wickets'].mean()\n",
    "\n",
    "print(out_win_by_run['win_by_wickets'])\n",
    "\n",
    "df['win_by_wickets'] = df['win_by_wickets'].where(\n",
    "    (df['win_by_wickets'] >= lower) & (df['win_by_wickets'] <= upper),\n",
    "    mean_val\n",
    ")"
   ]
  },
  {
   "cell_type": "code",
   "execution_count": null,
   "id": "d96a5938-baf4-4723-8af2-4914773e1c3e",
   "metadata": {},
   "outputs": [],
   "source": [
    "plt.figure(figsize=(6, 5))\n",
    "sns.boxplot(y = df['win_by_wickets'])\n",
    "plt.show()"
   ]
  },
  {
   "cell_type": "code",
   "execution_count": null,
   "id": "cb7f730c-f5a0-4513-b0a5-c8d21abf1165",
   "metadata": {},
   "outputs": [],
   "source": []
  }
 ],
 "metadata": {
  "kernelspec": {
   "display_name": "Python 3 (ipykernel)",
   "language": "python",
   "name": "python3"
  },
  "language_info": {
   "codemirror_mode": {
    "name": "ipython",
    "version": 3
   },
   "file_extension": ".py",
   "mimetype": "text/x-python",
   "name": "python",
   "nbconvert_exporter": "python",
   "pygments_lexer": "ipython3",
   "version": "3.13.3"
  }
 },
 "nbformat": 4,
 "nbformat_minor": 5
}
